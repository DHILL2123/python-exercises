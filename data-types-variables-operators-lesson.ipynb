{
 "cells": [
  {
   "cell_type": "markdown",
   "id": "5485bd87",
   "metadata": {},
   "source": [
    "## Objectives\n",
    "\n",
    "\n",
    "- Gain familiarity with Jupyter notebooks\n",
    "- Use and manipulate various data types\n",
    "- Create, assign, and update variables\n",
    "- Represent information with data types\n",
    "- Use Boolean operators \n",
    "- Create and modify strings with string methods\n",
    "- Create tuples\n",
    "- Create dictionaries\n",
    "\n",
    "[Reference](https://ds.codeup.com/python/data-types-and-variables/)"
   ]
  },
  {
   "cell_type": "markdown",
   "id": "dc431b96",
   "metadata": {},
   "source": [
    "---\n",
    "## Data Types\n",
    "\n",
    "\n",
    "| Data type | Description |\n",
    "|:-: |----------|\n",
    "| `bool`|   Boolean values (True or False) |\n",
    "| `str`  |  whole, or counting numbers |\n",
    "| `float`|  decimal numbers |\n",
    "| `list`| an ordered sequence of objects |\n",
    "| `dict`| a collection of named values\n",
    "| `NoneType` |  indicates absence of a value\n"
   ]
  },
  {
   "cell_type": "markdown",
   "id": "159fb5e4",
   "metadata": {},
   "source": [
    "\n",
    "###  `type` function\n",
    "\n",
    "Returns the data type of an object. \n",
    "\n",
    "```python\n",
    "type(object)\n",
    "```\n",
    "\n"
   ]
  },
  {
   "cell_type": "markdown",
   "id": "f94c0b8a",
   "metadata": {},
   "source": [
    "### Examples"
   ]
  },
  {
   "cell_type": "code",
   "execution_count": 1,
   "id": "0815fd35",
   "metadata": {},
   "outputs": [
    {
     "data": {
      "text/plain": [
       "int"
      ]
     },
     "execution_count": 1,
     "metadata": {},
     "output_type": "execute_result"
    }
   ],
   "source": [
    "type(123)"
   ]
  },
  {
   "cell_type": "code",
   "execution_count": 2,
   "id": "232b3ba4",
   "metadata": {},
   "outputs": [
    {
     "data": {
      "text/plain": [
       "float"
      ]
     },
     "execution_count": 2,
     "metadata": {},
     "output_type": "execute_result"
    }
   ],
   "source": [
    "type(123.0)"
   ]
  },
  {
   "cell_type": "code",
   "execution_count": 3,
   "id": "0b80048e",
   "metadata": {},
   "outputs": [
    {
     "data": {
      "text/plain": [
       "str"
      ]
     },
     "execution_count": 3,
     "metadata": {},
     "output_type": "execute_result"
    }
   ],
   "source": [
    "type('Hello')"
   ]
  },
  {
   "cell_type": "code",
   "execution_count": 4,
   "id": "7974a8c8",
   "metadata": {},
   "outputs": [
    {
     "data": {
      "text/plain": [
       "bool"
      ]
     },
     "execution_count": 4,
     "metadata": {},
     "output_type": "execute_result"
    }
   ],
   "source": [
    "type(True)"
   ]
  },
  {
   "cell_type": "code",
   "execution_count": 5,
   "id": "3e59a2c9",
   "metadata": {},
   "outputs": [
    {
     "data": {
      "text/plain": [
       "bool"
      ]
     },
     "execution_count": 5,
     "metadata": {},
     "output_type": "execute_result"
    }
   ],
   "source": [
    "type(False)"
   ]
  },
  {
   "cell_type": "code",
   "execution_count": null,
   "id": "f10c8573",
   "metadata": {},
   "outputs": [],
   "source": []
  },
  {
   "cell_type": "markdown",
   "id": "d4c08266",
   "metadata": {},
   "source": [
    "### Assigning a variable\n",
    "\n"
   ]
  },
  {
   "cell_type": "code",
   "execution_count": 15,
   "id": "31fc749d",
   "metadata": {},
   "outputs": [],
   "source": [
    "favorite_number = 42\n",
    "n = favorie_number"
   ]
  },
  {
   "cell_type": "code",
   "execution_count": 16,
   "id": "a29f2311",
   "metadata": {},
   "outputs": [
    {
     "data": {
      "text/plain": [
       "int"
      ]
     },
     "execution_count": 16,
     "metadata": {},
     "output_type": "execute_result"
    }
   ],
   "source": [
    "type(favorite_number)"
   ]
  },
  {
   "cell_type": "code",
   "execution_count": 18,
   "id": "5fbdb092",
   "metadata": {},
   "outputs": [],
   "source": [
    "n = favorite_number"
   ]
  },
  {
   "cell_type": "code",
   "execution_count": 19,
   "id": "0b0d363e",
   "metadata": {},
   "outputs": [
    {
     "data": {
      "text/plain": [
       "int"
      ]
     },
     "execution_count": 19,
     "metadata": {},
     "output_type": "execute_result"
    }
   ],
   "source": [
    "type(n)"
   ]
  },
  {
   "cell_type": "markdown",
   "id": "e66fe575",
   "metadata": {},
   "source": [
    "---\n",
    "\n",
    "## Variables"
   ]
  },
  {
   "cell_type": "code",
   "execution_count": 20,
   "id": "c988114a",
   "metadata": {},
   "outputs": [
    {
     "name": "stdout",
     "output_type": "stream",
     "text": [
      "1\n",
      "2\n",
      "6\n"
     ]
    }
   ],
   "source": [
    "x = 1\n",
    "print(x)\n",
    "\n",
    "#add 1 to the value of x\n",
    "x = x + 1\n",
    "\n",
    "print(x)\n",
    "x = x * 3\n",
    "print(x)\n"
   ]
  },
  {
   "cell_type": "markdown",
   "id": "becec838",
   "metadata": {},
   "source": [
    "#### Troubleshooting\n",
    "\n",
    "What is the result of the following code?\n",
    "\n",
    "```python\n",
    "a = 6\n",
    "print(a + b)\n",
    "b = 4\n",
    "```\n",
    "\n"
   ]
  },
  {
   "cell_type": "markdown",
   "id": "d85bfe8e",
   "metadata": {},
   "source": [
    "### Updating a variable\n"
   ]
  },
  {
   "cell_type": "code",
   "execution_count": null,
   "id": "eb69f9e1",
   "metadata": {},
   "outputs": [],
   "source": []
  },
  {
   "cell_type": "code",
   "execution_count": null,
   "id": "ad91ae70",
   "metadata": {},
   "outputs": [],
   "source": []
  },
  {
   "cell_type": "markdown",
   "id": "17f0cd5e",
   "metadata": {},
   "source": [
    "#### Example: Running a cell multiple times"
   ]
  },
  {
   "cell_type": "code",
   "execution_count": 21,
   "id": "4c4357b5",
   "metadata": {},
   "outputs": [
    {
     "name": "stdout",
     "output_type": "stream",
     "text": [
      "6\n"
     ]
    }
   ],
   "source": [
    "number = 6"
   ]
  },
  {
   "cell_type": "markdown",
   "id": "9c71cb97",
   "metadata": {},
   "source": [
    "number = number + 1\n",
    "print(number)"
   ]
  },
  {
   "cell_type": "markdown",
   "id": "69fe5566",
   "metadata": {},
   "source": [
    "## Boolean values\n",
    "\n",
    "\n",
    "There are two Boolean values: `True` and `False`\n",
    "\n",
    "**Note:** A Boolean value is not a string\n",
    "\n",
    "```python\n",
    "type(True)\n",
    "```\n",
    "```\n",
    "bool\n",
    "```\n",
    "\n",
    "```python\n",
    "type('True')\n",
    "```\n",
    "```\n",
    "str\n",
    "```\n",
    "\n"
   ]
  },
  {
   "cell_type": "markdown",
   "id": "4e1e476c",
   "metadata": {},
   "source": [
    "## Comparison operators \n",
    "\n",
    "\n",
    "\n",
    "#### Checks for equality\n",
    "```python\n",
    "==\n",
    "```\n",
    "\n",
    "\n",
    "\n",
    "#### Checks for inequality\n",
    "```python\n",
    "!=\n",
    "```"
   ]
  },
  {
   "cell_type": "markdown",
   "id": "db22b82e",
   "metadata": {},
   "source": [
    "### Examples "
   ]
  },
  {
   "cell_type": "code",
   "execution_count": 27,
   "id": "dfa12d91",
   "metadata": {},
   "outputs": [
    {
     "data": {
      "text/plain": [
       "True"
      ]
     },
     "execution_count": 27,
     "metadata": {},
     "output_type": "execute_result"
    }
   ],
   "source": [
    "True == True"
   ]
  },
  {
   "cell_type": "code",
   "execution_count": 28,
   "id": "3bcd1fdf",
   "metadata": {},
   "outputs": [
    {
     "data": {
      "text/plain": [
       "False"
      ]
     },
     "execution_count": 28,
     "metadata": {},
     "output_type": "execute_result"
    }
   ],
   "source": [
    "True == False"
   ]
  },
  {
   "cell_type": "code",
   "execution_count": 29,
   "id": "30d47bca",
   "metadata": {},
   "outputs": [
    {
     "data": {
      "text/plain": [
       "False"
      ]
     },
     "execution_count": 29,
     "metadata": {},
     "output_type": "execute_result"
    }
   ],
   "source": [
    "True != True "
   ]
  },
  {
   "cell_type": "code",
   "execution_count": 30,
   "id": "5453d182",
   "metadata": {},
   "outputs": [
    {
     "data": {
      "text/plain": [
       "True"
      ]
     },
     "execution_count": 30,
     "metadata": {},
     "output_type": "execute_result"
    }
   ],
   "source": [
    "True != False"
   ]
  },
  {
   "cell_type": "code",
   "execution_count": 31,
   "id": "1122d67b",
   "metadata": {},
   "outputs": [
    {
     "data": {
      "text/plain": [
       "True"
      ]
     },
     "execution_count": 31,
     "metadata": {},
     "output_type": "execute_result"
    }
   ],
   "source": [
    "5 == 4 + 1"
   ]
  },
  {
   "cell_type": "code",
   "execution_count": 32,
   "id": "b63b9d81",
   "metadata": {},
   "outputs": [
    {
     "data": {
      "text/plain": [
       "False"
      ]
     },
     "execution_count": 32,
     "metadata": {},
     "output_type": "execute_result"
    }
   ],
   "source": [
    "5.01 == 5"
   ]
  },
  {
   "cell_type": "markdown",
   "id": "0bdf9a97",
   "metadata": {},
   "source": [
    "## Boolean Operators\n",
    "\n",
    "\n",
    "Boolean operators evaluate statements and return a Boolean value.\n",
    "\n",
    "\n",
    "#### `not` statements - also known as a negation\n",
    "\n",
    "\n",
    "Returns the opposite Boolean value\n",
    "\n",
    "| A | not A \n",
    "|:-: | :-:| \n",
    "| T | F |\n",
    "| F | T |\n",
    "\n",
    "\n",
    "\n",
    "For two statements **A** and **B**\n",
    "\n",
    "#### `and` statement - also known as a *conjunction*\n",
    "\n",
    "\n",
    "    \n",
    "    \n",
    "\n",
    "| A | B | A and B\n",
    "|:-: | :-:| :-: | \n",
    "| T | T | T | \n",
    "| T | F | F | \n",
    "| F | T | F | \n",
    "| F | F | F | \n",
    "\n",
    "\n",
    "\n",
    "#### `or` statement - also known as a *disjunction*\n",
    "\n",
    "    \n",
    "\n",
    "| A | B | A or B\n",
    "|:-: | :-:| :-: | \n",
    "| T | T | T | \n",
    "| T | F | T | \n",
    "| F | T | T | \n",
    "| F | F | F | \n",
    "\n",
    "\n"
   ]
  },
  {
   "cell_type": "code",
   "execution_count": 33,
   "id": "a59d0c3a",
   "metadata": {},
   "outputs": [
    {
     "name": "stdout",
     "output_type": "stream",
     "text": [
      "True\n"
     ]
    }
   ],
   "source": [
    "is_first_of_the_month = True\n",
    "report_has_been_sent = False\n",
    "\n",
    "should_process_report = is_first_of_the_month and not report_has_been_sent\n",
    "\n",
    "print(should_process_report)"
   ]
  },
  {
   "cell_type": "markdown",
   "id": "ab85b996",
   "metadata": {},
   "source": [
    "\n",
    "\n",
    "## Numbers\n",
    "\n",
    "Two commonly used number types:\n",
    "\n",
    "\n",
    "`int` - Whole numbers (both positive and negative) and 0\n",
    "\n",
    "`float` - Numbers with decimals\n",
    "\n",
    "####  Arithmetic Operations\n",
    "\n",
    "| Operation      | Operator | Example  |\n",
    "| ---------      | -------- | -------  |\n",
    "| Addition       | `+`      | `4 + 4`  |\n",
    "| Subtraction    | `-`      | `9 - 1`  |\n",
    "| Multiplication | `*`      | `4 * 2`  |\n",
    "| Division       | `/`      | `16 / 2` |\n",
    "| Exponentiation | `**`     | `2 ** 3` |\n",
    "\n",
    "\n",
    "\n",
    "####  Comparison Operations\n",
    "\n",
    "| Operator | Description              | Example  |\n",
    "| -------- | -----------              | -------  |\n",
    "| `==`     | Equal to                 | `1 == 1` |\n",
    "| `!=`     | Not equal to             | `1 != 0` |\n",
    "| `>`      | Greater than             | `1 > 0`  |\n",
    "| `<`      | Less than                | `0 < 1`  |\n",
    "| `>=`     | Greater than or equal to | `1 >= 1` |\n",
    "| `<=`     | Less than or equal to    | `1 <= 1` |\n",
    "\n",
    "\n"
   ]
  },
  {
   "cell_type": "markdown",
   "id": "c41910f7",
   "metadata": {},
   "source": [
    "### Examples"
   ]
  },
  {
   "cell_type": "code",
   "execution_count": null,
   "id": "04832d7f",
   "metadata": {},
   "outputs": [],
   "source": []
  },
  {
   "cell_type": "code",
   "execution_count": null,
   "id": "08fc3046",
   "metadata": {},
   "outputs": [],
   "source": []
  },
  {
   "cell_type": "markdown",
   "id": "3a5496a8",
   "metadata": {},
   "source": [
    "---\n",
    "## Strings\n",
    "\n",
    "Strings represent text and are enclosed by quotes.\n",
    "\n",
    "\n",
    "\n",
    "```python\n",
    "'A string in single quotes'\n",
    "```\n",
    "\n",
    "\n",
    "\n",
    "```python\n",
    "\"A string in double quotes\"\n",
    "```\n",
    "\n",
    "\n",
    "\n",
    "```python\n",
    "'''A multi-line\n",
    "string in\n",
    "triple quotes'''\n",
    "```\n"
   ]
  },
  {
   "cell_type": "markdown",
   "id": "8360f2f2",
   "metadata": {},
   "source": [
    "### Examples\n",
    "\n"
   ]
  },
  {
   "cell_type": "code",
   "execution_count": null,
   "id": "0560f2af",
   "metadata": {},
   "outputs": [],
   "source": []
  },
  {
   "cell_type": "code",
   "execution_count": null,
   "id": "76ec8629",
   "metadata": {},
   "outputs": [],
   "source": []
  },
  {
   "cell_type": "markdown",
   "id": "aef02a48",
   "metadata": {},
   "source": [
    "### Operations with strings\n"
   ]
  },
  {
   "cell_type": "code",
   "execution_count": 34,
   "id": "dc2908c2",
   "metadata": {},
   "outputs": [
    {
     "data": {
      "text/plain": [
       "True"
      ]
     },
     "execution_count": 34,
     "metadata": {},
     "output_type": "execute_result"
    }
   ],
   "source": [
    "'hello' == 'hello'"
   ]
  },
  {
   "cell_type": "code",
   "execution_count": 35,
   "id": "2163b0e6",
   "metadata": {},
   "outputs": [
    {
     "data": {
      "text/plain": [
       "False"
      ]
     },
     "execution_count": 35,
     "metadata": {},
     "output_type": "execute_result"
    }
   ],
   "source": [
    "'Hello' == 'hello'"
   ]
  },
  {
   "cell_type": "markdown",
   "id": "fd700c3a",
   "metadata": {},
   "source": [
    "### Examples"
   ]
  },
  {
   "cell_type": "code",
   "execution_count": 37,
   "id": "482dd6b8",
   "metadata": {},
   "outputs": [
    {
     "data": {
      "text/plain": [
       "'abcdef  ghi'"
      ]
     },
     "execution_count": 37,
     "metadata": {},
     "output_type": "execute_result"
    }
   ],
   "source": [
    "'abc' + 'def' + '  ghi'"
   ]
  },
  {
   "cell_type": "markdown",
   "id": "43cba2ea",
   "metadata": {},
   "source": [
    "### Formatting strings \n"
   ]
  },
  {
   "cell_type": "code",
   "execution_count": 40,
   "id": "3d22abd5",
   "metadata": {},
   "outputs": [],
   "source": [
    "my_name = 'DeAdrien'"
   ]
  },
  {
   "cell_type": "code",
   "execution_count": 42,
   "id": "d2104788",
   "metadata": {},
   "outputs": [
    {
     "data": {
      "text/plain": [
       "'Hello, DeAdrien! How are you doing?'"
      ]
     },
     "execution_count": 42,
     "metadata": {},
     "output_type": "execute_result"
    }
   ],
   "source": [
    "'Hello, %s! How are you doing?' % my_name"
   ]
  },
  {
   "cell_type": "markdown",
   "id": "dfdd3a28",
   "metadata": {},
   "source": [
    "### Examples"
   ]
  },
  {
   "cell_type": "code",
   "execution_count": 43,
   "id": "70245ab6",
   "metadata": {},
   "outputs": [
    {
     "data": {
      "text/plain": [
       "'Hello, DeAdrien!'"
      ]
     },
     "execution_count": 43,
     "metadata": {},
     "output_type": "execute_result"
    }
   ],
   "source": [
    "'Hello, {}!'.format(my_name)"
   ]
  },
  {
   "cell_type": "code",
   "execution_count": 44,
   "id": "01d38009",
   "metadata": {},
   "outputs": [
    {
     "data": {
      "text/plain": [
       "'Hello, DeAdrien! How are you doing?'"
      ]
     },
     "execution_count": 44,
     "metadata": {},
     "output_type": "execute_result"
    }
   ],
   "source": [
    "f'Hello, {my_name}! How are you doing?'"
   ]
  },
  {
   "cell_type": "markdown",
   "id": "56606a97",
   "metadata": {},
   "source": [
    "### String methods"
   ]
  },
  {
   "cell_type": "markdown",
   "id": "8d2ffe5d",
   "metadata": {},
   "source": [
    "A string method does not modify the original string. \n",
    "\n",
    "Assign the result to a new variable or update the string to use the modified string. \n",
    "\n",
    "\n",
    "\n",
    "| Data type | Description |\n",
    "|:-: |----------|\n",
    "| `.lower`|  convert to lower case\n",
    "| `.upper`|  convert to upper case\n",
    "| `.strip`  |  remove leading or trailing whitespace\n",
    "| `.isdigit`|  tests whether a string is a number |\n",
    "| `.split`| converts a string to a list |\n",
    "| `.join`| converts a list to a string\n",
    "\n"
   ]
  },
  {
   "cell_type": "markdown",
   "id": "6e060c17",
   "metadata": {},
   "source": [
    "### Examples"
   ]
  },
  {
   "cell_type": "code",
   "execution_count": 46,
   "id": "31fd0552",
   "metadata": {},
   "outputs": [],
   "source": [
    "s = ' Hello, world! '"
   ]
  },
  {
   "cell_type": "code",
   "execution_count": 47,
   "id": "b6e3e724",
   "metadata": {},
   "outputs": [
    {
     "data": {
      "text/plain": [
       "' hello, world! '"
      ]
     },
     "execution_count": 47,
     "metadata": {},
     "output_type": "execute_result"
    }
   ],
   "source": [
    "s.lower()"
   ]
  },
  {
   "cell_type": "code",
   "execution_count": 48,
   "id": "66562ca3",
   "metadata": {},
   "outputs": [
    {
     "name": "stdout",
     "output_type": "stream",
     "text": [
      " Hello, world! \n"
     ]
    }
   ],
   "source": [
    "print(s)"
   ]
  },
  {
   "cell_type": "code",
   "execution_count": 49,
   "id": "b492c24c",
   "metadata": {},
   "outputs": [
    {
     "data": {
      "text/plain": [
       "'Hello, world!'"
      ]
     },
     "execution_count": 49,
     "metadata": {},
     "output_type": "execute_result"
    }
   ],
   "source": [
    "s.strip()"
   ]
  },
  {
   "cell_type": "code",
   "execution_count": 51,
   "id": "dcb11d29",
   "metadata": {},
   "outputs": [],
   "source": [
    "a = '123'"
   ]
  },
  {
   "cell_type": "code",
   "execution_count": 54,
   "id": "73aadb0f",
   "metadata": {},
   "outputs": [
    {
     "data": {
      "text/plain": [
       "['123', 'main', 'street']"
      ]
     },
     "execution_count": 54,
     "metadata": {},
     "output_type": "execute_result"
    }
   ],
   "source": [
    "b = '123, Main, Street'\n",
    "\n",
    "b.lower().split(', ')"
   ]
  },
  {
   "cell_type": "code",
   "execution_count": 52,
   "id": "b7d46295",
   "metadata": {},
   "outputs": [
    {
     "data": {
      "text/plain": [
       "True"
      ]
     },
     "execution_count": 52,
     "metadata": {},
     "output_type": "execute_result"
    }
   ],
   "source": [
    "a.isdigit()"
   ]
  },
  {
   "cell_type": "code",
   "execution_count": 55,
   "id": "77d8b621",
   "metadata": {},
   "outputs": [
    {
     "data": {
      "text/plain": [
       "'one, two, three'"
      ]
     },
     "execution_count": 55,
     "metadata": {},
     "output_type": "execute_result"
    }
   ],
   "source": [
    "', '.join(['one', 'two', 'three'])"
   ]
  },
  {
   "cell_type": "markdown",
   "id": "834a6bab",
   "metadata": {},
   "source": [
    "---\n",
    "\n",
    "## Lists"
   ]
  },
  {
   "cell_type": "code",
   "execution_count": 58,
   "id": "45652069",
   "metadata": {},
   "outputs": [
    {
     "data": {
      "text/plain": [
       "[[1, 2, 3, 4], [5, 6, 7, 8], [9, 10]]"
      ]
     },
     "execution_count": 58,
     "metadata": {},
     "output_type": "execute_result"
    }
   ],
   "source": [
    "list_of_lists = [[1,2,3,4],[5,6,7,8],[9,10]]\n",
    "list_of_lists"
   ]
  },
  {
   "cell_type": "markdown",
   "id": "5d3a6fc1",
   "metadata": {},
   "source": [
    "### Creating a list\n",
    "\n"
   ]
  },
  {
   "cell_type": "code",
   "execution_count": 60,
   "id": "23f3087e",
   "metadata": {},
   "outputs": [
    {
     "data": {
      "text/plain": [
       "[0, 1, 2, 3, 4, 5, 6, 7, 8, 9]"
      ]
     },
     "execution_count": 60,
     "metadata": {},
     "output_type": "execute_result"
    }
   ],
   "source": [
    "[n for n in range(10)]\n",
    "# does not include 10 in the range starts at 0 not 1"
   ]
  },
  {
   "cell_type": "code",
   "execution_count": 61,
   "id": "74602f34",
   "metadata": {},
   "outputs": [
    {
     "data": {
      "text/plain": [
       "[0, 2, 4, 6, 8, 10, 12, 14, 16, 18]"
      ]
     },
     "execution_count": 61,
     "metadata": {},
     "output_type": "execute_result"
    }
   ],
   "source": [
    "[n * 2 for n in range(10)]"
   ]
  },
  {
   "cell_type": "code",
   "execution_count": 62,
   "id": "520f5362",
   "metadata": {},
   "outputs": [
    {
     "data": {
      "text/plain": [
       "[0, 4, 8, 12, 16]"
      ]
     },
     "execution_count": 62,
     "metadata": {},
     "output_type": "execute_result"
    }
   ],
   "source": [
    "[n * 2 for n in range(10) if n % 2 == 0]"
   ]
  },
  {
   "cell_type": "code",
   "execution_count": 69,
   "id": "dcd564f8",
   "metadata": {},
   "outputs": [],
   "source": [
    "numbers = [1,2,3]"
   ]
  },
  {
   "cell_type": "code",
   "execution_count": 70,
   "id": "467eecad",
   "metadata": {},
   "outputs": [
    {
     "data": {
      "text/plain": [
       "[1, 2, 3, 4]"
      ]
     },
     "execution_count": 70,
     "metadata": {},
     "output_type": "execute_result"
    }
   ],
   "source": [
    "## add 4 to the list\n",
    "numbers.append(4)\n",
    "numbers"
   ]
  },
  {
   "cell_type": "code",
   "execution_count": 72,
   "id": "164c2240",
   "metadata": {},
   "outputs": [
    {
     "data": {
      "text/plain": [
       "[1, 2]"
      ]
     },
     "execution_count": 72,
     "metadata": {},
     "output_type": "execute_result"
    }
   ],
   "source": [
    "numbers.pop()\n",
    "numbers"
   ]
  },
  {
   "cell_type": "code",
   "execution_count": 76,
   "id": "0ff1c114",
   "metadata": {},
   "outputs": [
    {
     "data": {
      "text/plain": [
       "2"
      ]
     },
     "execution_count": 76,
     "metadata": {},
     "output_type": "execute_result"
    }
   ],
   "source": [
    "len(numbers)"
   ]
  },
  {
   "cell_type": "code",
   "execution_count": 77,
   "id": "eec5904a",
   "metadata": {},
   "outputs": [
    {
     "data": {
      "text/plain": [
       "2"
      ]
     },
     "execution_count": 77,
     "metadata": {},
     "output_type": "execute_result"
    }
   ],
   "source": [
    "## index\n",
    "numbers[1]"
   ]
  },
  {
   "cell_type": "code",
   "execution_count": 78,
   "id": "8d70f1c9",
   "metadata": {},
   "outputs": [
    {
     "data": {
      "text/plain": [
       "[1, 2]"
      ]
     },
     "execution_count": 78,
     "metadata": {},
     "output_type": "execute_result"
    }
   ],
   "source": [
    "numbers[:2]"
   ]
  },
  {
   "cell_type": "code",
   "execution_count": null,
   "id": "81f87f98",
   "metadata": {},
   "outputs": [],
   "source": []
  },
  {
   "cell_type": "markdown",
   "id": "8014f139",
   "metadata": {},
   "source": [
    "### List comprehensions"
   ]
  },
  {
   "cell_type": "code",
   "execution_count": 79,
   "id": "e1233ca4",
   "metadata": {},
   "outputs": [
    {
     "data": {
      "text/plain": [
       "['a', ' ', 'b', 'c', ' ', 'd', 'e']"
      ]
     },
     "execution_count": 79,
     "metadata": {},
     "output_type": "execute_result"
    }
   ],
   "source": [
    "## converting to a list \n",
    "list ('a bc de')"
   ]
  },
  {
   "cell_type": "code",
   "execution_count": 80,
   "id": "2dafed83",
   "metadata": {},
   "outputs": [
    {
     "data": {
      "text/plain": [
       "[0, 1, 2, 3, 4, 5, 6, 7, 8, 9]"
      ]
     },
     "execution_count": 80,
     "metadata": {},
     "output_type": "execute_result"
    }
   ],
   "source": [
    "## makes a list from 0 - 9\n",
    "list(range(10))"
   ]
  },
  {
   "cell_type": "code",
   "execution_count": 81,
   "id": "a1c8ecbf",
   "metadata": {},
   "outputs": [
    {
     "data": {
      "text/plain": [
       "['1', '2', '3']"
      ]
     },
     "execution_count": 81,
     "metadata": {},
     "output_type": "execute_result"
    }
   ],
   "source": [
    "my_numbers = [1, 2, 3]\n",
    "list(map(str, my_numbers))"
   ]
  },
  {
   "cell_type": "code",
   "execution_count": null,
   "id": "3f02757e",
   "metadata": {},
   "outputs": [],
   "source": []
  },
  {
   "cell_type": "markdown",
   "id": "f8ec2026",
   "metadata": {},
   "source": [
    "### List Operations"
   ]
  },
  {
   "cell_type": "code",
   "execution_count": 83,
   "id": "7e836101",
   "metadata": {},
   "outputs": [],
   "source": [
    "my_string_numbers = ['1', '2', '3']"
   ]
  },
  {
   "cell_type": "code",
   "execution_count": 84,
   "id": "5d3ffd93",
   "metadata": {},
   "outputs": [
    {
     "data": {
      "text/plain": [
       "['1', '2', '3']"
      ]
     },
     "execution_count": 84,
     "metadata": {},
     "output_type": "execute_result"
    }
   ],
   "source": [
    "my_string_numbers"
   ]
  },
  {
   "cell_type": "markdown",
   "id": "9d85e9cf",
   "metadata": {},
   "source": [
    "---\n",
    "\n",
    "## Tuples"
   ]
  },
  {
   "cell_type": "code",
   "execution_count": 86,
   "id": "b41502ed",
   "metadata": {},
   "outputs": [],
   "source": [
    "my_tuple = (1, 2, 3)"
   ]
  },
  {
   "cell_type": "code",
   "execution_count": 87,
   "id": "73ffc4a1",
   "metadata": {},
   "outputs": [
    {
     "data": {
      "text/plain": [
       "tuple"
      ]
     },
     "execution_count": 87,
     "metadata": {},
     "output_type": "execute_result"
    }
   ],
   "source": [
    "type(my_tuple)"
   ]
  },
  {
   "cell_type": "code",
   "execution_count": 88,
   "id": "ae722ebf",
   "metadata": {},
   "outputs": [
    {
     "data": {
      "text/plain": [
       "2"
      ]
     },
     "execution_count": 88,
     "metadata": {},
     "output_type": "execute_result"
    }
   ],
   "source": [
    "my_tuple[1]"
   ]
  },
  {
   "cell_type": "markdown",
   "id": "5380a52b",
   "metadata": {},
   "source": [
    "\n",
    "---\n",
    "\n",
    "## Dictionaries"
   ]
  },
  {
   "cell_type": "code",
   "execution_count": 93,
   "id": "f0025b56",
   "metadata": {},
   "outputs": [],
   "source": [
    "my_dictionary = {\n",
    "    'name' : 'Codeup',\n",
    "    'age' : 9\n",
    "}"
   ]
  },
  {
   "cell_type": "code",
   "execution_count": 94,
   "id": "bb10f5b4",
   "metadata": {},
   "outputs": [
    {
     "data": {
      "text/plain": [
       "{'name': 'Codeup', 'age': 9}"
      ]
     },
     "execution_count": 94,
     "metadata": {},
     "output_type": "execute_result"
    }
   ],
   "source": [
    "my_dictionary"
   ]
  },
  {
   "cell_type": "markdown",
   "id": "49bd9070",
   "metadata": {},
   "source": [
    "### Creating a dictionary "
   ]
  },
  {
   "cell_type": "code",
   "execution_count": 95,
   "id": "13b47117",
   "metadata": {},
   "outputs": [
    {
     "data": {
      "text/plain": [
       "{'name': 'Codeup', 'age': 9}"
      ]
     },
     "execution_count": 95,
     "metadata": {},
     "output_type": "execute_result"
    }
   ],
   "source": [
    "dict(name = 'Codeup', age = 9)"
   ]
  },
  {
   "cell_type": "code",
   "execution_count": 97,
   "id": "2bbb3397",
   "metadata": {},
   "outputs": [
    {
     "data": {
      "text/plain": [
       "{'name': 'Codeup', 'age': 9}"
      ]
     },
     "execution_count": 97,
     "metadata": {},
     "output_type": "execute_result"
    }
   ],
   "source": [
    "my_new_dictionary = dict(name = 'Codeup', age = 9)\n",
    "my_new_dictionary"
   ]
  },
  {
   "cell_type": "markdown",
   "id": "d3bc3500",
   "metadata": {},
   "source": [
    "### Accessing dictionary values"
   ]
  },
  {
   "cell_type": "code",
   "execution_count": 99,
   "id": "1d9f49a2",
   "metadata": {},
   "outputs": [
    {
     "data": {
      "text/plain": [
       "'Codeup'"
      ]
     },
     "execution_count": 99,
     "metadata": {},
     "output_type": "execute_result"
    }
   ],
   "source": [
    "school = dict(name = 'Codeup', age = 9 )\n",
    "school['name']"
   ]
  },
  {
   "cell_type": "code",
   "execution_count": 100,
   "id": "376b77ed",
   "metadata": {},
   "outputs": [],
   "source": [
    "school['age'] += 1\n",
    "## take the value of 'age'\n",
    "## adds 1 \n",
    "## updates the dictionary"
   ]
  },
  {
   "cell_type": "code",
   "execution_count": 101,
   "id": "c658176f",
   "metadata": {},
   "outputs": [
    {
     "data": {
      "text/plain": [
       "{'name': 'Codeup', 'age': 10}"
      ]
     },
     "execution_count": 101,
     "metadata": {},
     "output_type": "execute_result"
    }
   ],
   "source": [
    "school"
   ]
  },
  {
   "cell_type": "code",
   "execution_count": null,
   "id": "3d4e9046",
   "metadata": {},
   "outputs": [],
   "source": []
  },
  {
   "cell_type": "markdown",
   "id": "bc98e720",
   "metadata": {},
   "source": [
    "## Changing data types\n",
    "\n",
    "```python\n",
    "int()\n",
    "```\n",
    "\n",
    "```python\n",
    "str()\n",
    "```\n",
    "\n"
   ]
  },
  {
   "cell_type": "code",
   "execution_count": 102,
   "id": "a3e06f3a",
   "metadata": {},
   "outputs": [
    {
     "data": {
      "text/plain": [
       "int"
      ]
     },
     "execution_count": 102,
     "metadata": {},
     "output_type": "execute_result"
    }
   ],
   "source": [
    "a = 3\n",
    "type(a)"
   ]
  },
  {
   "cell_type": "code",
   "execution_count": 103,
   "id": "47c9000a",
   "metadata": {},
   "outputs": [
    {
     "data": {
      "text/plain": [
       "'3'"
      ]
     },
     "execution_count": 103,
     "metadata": {},
     "output_type": "execute_result"
    }
   ],
   "source": [
    "str(3)"
   ]
  },
  {
   "cell_type": "code",
   "execution_count": 105,
   "id": "4e20e187",
   "metadata": {},
   "outputs": [
    {
     "data": {
      "text/plain": [
       "6"
      ]
     },
     "execution_count": 105,
     "metadata": {},
     "output_type": "execute_result"
    }
   ],
   "source": [
    "b = '6'\n",
    "int(b)"
   ]
  },
  {
   "cell_type": "code",
   "execution_count": 107,
   "id": "19a29e5f",
   "metadata": {},
   "outputs": [
    {
     "data": {
      "text/plain": [
       "6"
      ]
     },
     "execution_count": 107,
     "metadata": {},
     "output_type": "execute_result"
    }
   ],
   "source": [
    "b = int(b)\n",
    "b"
   ]
  },
  {
   "cell_type": "code",
   "execution_count": 108,
   "id": "0b8476bd",
   "metadata": {},
   "outputs": [
    {
     "data": {
      "text/plain": [
       "1"
      ]
     },
     "execution_count": 108,
     "metadata": {},
     "output_type": "execute_result"
    }
   ],
   "source": [
    "int(True)"
   ]
  },
  {
   "cell_type": "code",
   "execution_count": 109,
   "id": "c6584fb5",
   "metadata": {},
   "outputs": [
    {
     "data": {
      "text/plain": [
       "0"
      ]
     },
     "execution_count": 109,
     "metadata": {},
     "output_type": "execute_result"
    }
   ],
   "source": [
    "int(False)"
   ]
  },
  {
   "cell_type": "markdown",
   "id": "c7d4d25b",
   "metadata": {},
   "source": [
    "### Examples"
   ]
  },
  {
   "cell_type": "code",
   "execution_count": null,
   "id": "ab0d864a",
   "metadata": {},
   "outputs": [],
   "source": []
  },
  {
   "cell_type": "markdown",
   "id": "fe642f3d",
   "metadata": {},
   "source": [
    "### Getting user input with `input`\n",
    "\n",
    "```python\n",
    "name = input('What is your name?')\n",
    "print(name)\n",
    "```"
   ]
  },
  {
   "cell_type": "code",
   "execution_count": 110,
   "id": "f4df09db",
   "metadata": {},
   "outputs": [
    {
     "name": "stdout",
     "output_type": "stream",
     "text": [
      "What is your name?Jackie Long\n",
      "Jackie Long\n"
     ]
    }
   ],
   "source": [
    "name = input (\"What is your name?\")\n",
    "print(name)"
   ]
  },
  {
   "cell_type": "markdown",
   "id": "4c527cdd",
   "metadata": {},
   "source": [
    "# Python Exercises\n",
    "1. Identify the data type of the following values:"
   ]
  },
  {
   "cell_type": "code",
   "execution_count": 112,
   "id": "f4dd109e",
   "metadata": {},
   "outputs": [
    {
     "data": {
      "text/plain": [
       "float"
      ]
     },
     "execution_count": 112,
     "metadata": {},
     "output_type": "execute_result"
    }
   ],
   "source": [
    "type(99.9)\n"
   ]
  },
  {
   "cell_type": "code",
   "execution_count": 113,
   "id": "d2016c7d",
   "metadata": {},
   "outputs": [
    {
     "data": {
      "text/plain": [
       "str"
      ]
     },
     "execution_count": 113,
     "metadata": {},
     "output_type": "execute_result"
    }
   ],
   "source": [
    "type(\"False\")\n"
   ]
  },
  {
   "cell_type": "code",
   "execution_count": 114,
   "id": "3b939501",
   "metadata": {},
   "outputs": [
    {
     "data": {
      "text/plain": [
       "bool"
      ]
     },
     "execution_count": 114,
     "metadata": {},
     "output_type": "execute_result"
    }
   ],
   "source": [
    "type(False)"
   ]
  },
  {
   "cell_type": "code",
   "execution_count": 115,
   "id": "f641d18c",
   "metadata": {},
   "outputs": [
    {
     "data": {
      "text/plain": [
       "str"
      ]
     },
     "execution_count": 115,
     "metadata": {},
     "output_type": "execute_result"
    }
   ],
   "source": [
    "type('0')"
   ]
  },
  {
   "cell_type": "code",
   "execution_count": 116,
   "id": "37a89024",
   "metadata": {},
   "outputs": [
    {
     "data": {
      "text/plain": [
       "int"
      ]
     },
     "execution_count": 116,
     "metadata": {},
     "output_type": "execute_result"
    }
   ],
   "source": [
    "type(0)"
   ]
  },
  {
   "cell_type": "code",
   "execution_count": 117,
   "id": "0f50b601",
   "metadata": {},
   "outputs": [
    {
     "data": {
      "text/plain": [
       "bool"
      ]
     },
     "execution_count": 117,
     "metadata": {},
     "output_type": "execute_result"
    }
   ],
   "source": [
    "type(True)"
   ]
  },
  {
   "cell_type": "code",
   "execution_count": 118,
   "id": "cb8a0d95",
   "metadata": {},
   "outputs": [
    {
     "data": {
      "text/plain": [
       "str"
      ]
     },
     "execution_count": 118,
     "metadata": {},
     "output_type": "execute_result"
    }
   ],
   "source": [
    "type('True')"
   ]
  },
  {
   "cell_type": "code",
   "execution_count": 119,
   "id": "bf1d9c33",
   "metadata": {},
   "outputs": [
    {
     "data": {
      "text/plain": [
       "list"
      ]
     },
     "execution_count": 119,
     "metadata": {},
     "output_type": "execute_result"
    }
   ],
   "source": [
    "type([{}])"
   ]
  },
  {
   "cell_type": "code",
   "execution_count": 120,
   "id": "c0fd674d",
   "metadata": {},
   "outputs": [
    {
     "data": {
      "text/plain": [
       "dict"
      ]
     },
     "execution_count": 120,
     "metadata": {},
     "output_type": "execute_result"
    }
   ],
   "source": [
    "type({'a': []})"
   ]
  },
  {
   "cell_type": "markdown",
   "id": "1005d311",
   "metadata": {},
   "source": [
    "2. What data type would best represent the following?\n",
    "A term or phrase typed into a search box\n",
    "-string\n",
    "Whether or not a user is logged in\n",
    "-bool\n",
    "A discount amount to apply to a user's shopping cart\n",
    "-float\n",
    "Whether or not a coupon code is valid\n",
    "-bool\n",
    "An email address typed into a registration form\n",
    "-string\n",
    "The price of a product\n",
    "-float \n",
    "The email addresses collected from a registration form\n",
    "-list\n",
    "Information about applicants to Codeup's data science program\n",
    "-dictionary"
   ]
  },
  {
   "cell_type": "markdown",
   "id": "9fda407b",
   "metadata": {},
   "source": [
    "3. For each of the following code blocks:\n",
    "\n",
    "Read the expression and predict the evaluated results\n",
    "\n",
    "Execute the expression in a Python REPL."
   ]
  },
  {
   "cell_type": "code",
   "execution_count": 121,
   "id": "c64f7535",
   "metadata": {},
   "outputs": [
    {
     "ename": "TypeError",
     "evalue": "can only concatenate str (not \"int\") to str",
     "output_type": "error",
     "traceback": [
      "\u001b[0;31m---------------------------------------------------------------------------\u001b[0m",
      "\u001b[0;31mTypeError\u001b[0m                                 Traceback (most recent call last)",
      "Input \u001b[0;32mIn [121]\u001b[0m, in \u001b[0;36m<cell line: 1>\u001b[0;34m()\u001b[0m\n\u001b[0;32m----> 1\u001b[0m \u001b[38;5;124;43m'\u001b[39;49m\u001b[38;5;124;43m1\u001b[39;49m\u001b[38;5;124;43m'\u001b[39;49m\u001b[43m \u001b[49m\u001b[38;5;241;43m+\u001b[39;49m\u001b[43m \u001b[49m\u001b[38;5;241;43m2\u001b[39;49m\n",
      "\u001b[0;31mTypeError\u001b[0m: can only concatenate str (not \"int\") to str"
     ]
    }
   ],
   "source": [
    "'1' + 2\n",
    "#error can only concatenate str (not \"int\") to str"
   ]
  },
  {
   "cell_type": "code",
   "execution_count": 122,
   "id": "953952fe",
   "metadata": {},
   "outputs": [
    {
     "data": {
      "text/plain": [
       "2"
      ]
     },
     "execution_count": 122,
     "metadata": {},
     "output_type": "execute_result"
    }
   ],
   "source": [
    "6 % 4\n"
   ]
  },
  {
   "cell_type": "code",
   "execution_count": 123,
   "id": "401bca62",
   "metadata": {},
   "outputs": [
    {
     "data": {
      "text/plain": [
       "int"
      ]
     },
     "execution_count": 123,
     "metadata": {},
     "output_type": "execute_result"
    }
   ],
   "source": [
    "type(6 % 4)\n"
   ]
  },
  {
   "cell_type": "code",
   "execution_count": 124,
   "id": "7f6bf754",
   "metadata": {},
   "outputs": [
    {
     "data": {
      "text/plain": [
       "type"
      ]
     },
     "execution_count": 124,
     "metadata": {},
     "output_type": "execute_result"
    }
   ],
   "source": [
    "type(type(6 % 4))\n"
   ]
  },
  {
   "cell_type": "code",
   "execution_count": 125,
   "id": "02024829",
   "metadata": {},
   "outputs": [
    {
     "ename": "TypeError",
     "evalue": "can only concatenate str (not \"int\") to str",
     "output_type": "error",
     "traceback": [
      "\u001b[0;31m---------------------------------------------------------------------------\u001b[0m",
      "\u001b[0;31mTypeError\u001b[0m                                 Traceback (most recent call last)",
      "Input \u001b[0;32mIn [125]\u001b[0m, in \u001b[0;36m<cell line: 1>\u001b[0;34m()\u001b[0m\n\u001b[0;32m----> 1\u001b[0m \u001b[38;5;124;43m'\u001b[39;49m\u001b[38;5;124;43m3 + 4 is \u001b[39;49m\u001b[38;5;124;43m'\u001b[39;49m\u001b[43m \u001b[49m\u001b[38;5;241;43m+\u001b[39;49m\u001b[43m \u001b[49m\u001b[38;5;241;43m3\u001b[39;49m \u001b[38;5;241m+\u001b[39m \u001b[38;5;241m4\u001b[39m\n",
      "\u001b[0;31mTypeError\u001b[0m: can only concatenate str (not \"int\") to str"
     ]
    }
   ],
   "source": [
    "'3 + 4 is ' + 3 + 4\n",
    "##can only concatenate str (not \"int\") to str"
   ]
  },
  {
   "cell_type": "code",
   "execution_count": 126,
   "id": "40eaf557",
   "metadata": {},
   "outputs": [
    {
     "data": {
      "text/plain": [
       "False"
      ]
     },
     "execution_count": 126,
     "metadata": {},
     "output_type": "execute_result"
    }
   ],
   "source": [
    "0 < 0\n"
   ]
  },
  {
   "cell_type": "code",
   "execution_count": 127,
   "id": "d46a862e",
   "metadata": {},
   "outputs": [
    {
     "data": {
      "text/plain": [
       "False"
      ]
     },
     "execution_count": 127,
     "metadata": {},
     "output_type": "execute_result"
    }
   ],
   "source": [
    "'False' == False\n"
   ]
  },
  {
   "cell_type": "code",
   "execution_count": 128,
   "id": "c81a93f9",
   "metadata": {},
   "outputs": [
    {
     "data": {
      "text/plain": [
       "False"
      ]
     },
     "execution_count": 128,
     "metadata": {},
     "output_type": "execute_result"
    }
   ],
   "source": [
    "True == 'True'\n"
   ]
  },
  {
   "cell_type": "code",
   "execution_count": 129,
   "id": "ca7208de",
   "metadata": {},
   "outputs": [
    {
     "data": {
      "text/plain": [
       "True"
      ]
     },
     "execution_count": 129,
     "metadata": {},
     "output_type": "execute_result"
    }
   ],
   "source": [
    "5 >= -5\n"
   ]
  },
  {
   "cell_type": "code",
   "execution_count": 130,
   "id": "c8eb804e",
   "metadata": {},
   "outputs": [
    {
     "data": {
      "text/plain": [
       "True"
      ]
     },
     "execution_count": 130,
     "metadata": {},
     "output_type": "execute_result"
    }
   ],
   "source": [
    "True or \"42\"\n"
   ]
  },
  {
   "cell_type": "code",
   "execution_count": 131,
   "id": "0aab479b",
   "metadata": {},
   "outputs": [
    {
     "data": {
      "text/plain": [
       "1"
      ]
     },
     "execution_count": 131,
     "metadata": {},
     "output_type": "execute_result"
    }
   ],
   "source": [
    "6 % 5\n"
   ]
  },
  {
   "cell_type": "code",
   "execution_count": 132,
   "id": "e9cc2c06",
   "metadata": {},
   "outputs": [
    {
     "data": {
      "text/plain": [
       "False"
      ]
     },
     "execution_count": 132,
     "metadata": {},
     "output_type": "execute_result"
    }
   ],
   "source": [
    "5 < 4 and 1 == 1\n"
   ]
  },
  {
   "cell_type": "code",
   "execution_count": 133,
   "id": "8279ee5d",
   "metadata": {},
   "outputs": [
    {
     "data": {
      "text/plain": [
       "False"
      ]
     },
     "execution_count": 133,
     "metadata": {},
     "output_type": "execute_result"
    }
   ],
   "source": [
    "'codeup' == 'codeup' and 'codeup' == 'Codeup'\n"
   ]
  },
  {
   "cell_type": "code",
   "execution_count": 134,
   "id": "19f70fff",
   "metadata": {},
   "outputs": [
    {
     "ename": "SyntaxError",
     "evalue": "invalid syntax (3850088429.py, line 1)",
     "output_type": "error",
     "traceback": [
      "\u001b[0;36m  Input \u001b[0;32mIn [134]\u001b[0;36m\u001b[0m\n\u001b[0;31m    4 >= 0 and 1 !== '1'\u001b[0m\n\u001b[0m                   ^\u001b[0m\n\u001b[0;31mSyntaxError\u001b[0m\u001b[0;31m:\u001b[0m invalid syntax\n"
     ]
    }
   ],
   "source": [
    "4 >= 0 and 1 !== '1'\n",
    "## invalid syntax"
   ]
  },
  {
   "cell_type": "code",
   "execution_count": 135,
   "id": "e3aca3a4",
   "metadata": {},
   "outputs": [
    {
     "data": {
      "text/plain": [
       "True"
      ]
     },
     "execution_count": 135,
     "metadata": {},
     "output_type": "execute_result"
    }
   ],
   "source": [
    "6 % 3 == 0\n"
   ]
  },
  {
   "cell_type": "code",
   "execution_count": 136,
   "id": "c898b126",
   "metadata": {},
   "outputs": [
    {
     "data": {
      "text/plain": [
       "True"
      ]
     },
     "execution_count": 136,
     "metadata": {},
     "output_type": "execute_result"
    }
   ],
   "source": [
    "5 % 2 != 0\n"
   ]
  },
  {
   "cell_type": "code",
   "execution_count": 137,
   "id": "656cedda",
   "metadata": {},
   "outputs": [
    {
     "ename": "TypeError",
     "evalue": "can only concatenate list (not \"int\") to list",
     "output_type": "error",
     "traceback": [
      "\u001b[0;31m---------------------------------------------------------------------------\u001b[0m",
      "\u001b[0;31mTypeError\u001b[0m                                 Traceback (most recent call last)",
      "Input \u001b[0;32mIn [137]\u001b[0m, in \u001b[0;36m<cell line: 1>\u001b[0;34m()\u001b[0m\n\u001b[0;32m----> 1\u001b[0m \u001b[43m[\u001b[49m\u001b[38;5;241;43m1\u001b[39;49m\u001b[43m]\u001b[49m\u001b[43m \u001b[49m\u001b[38;5;241;43m+\u001b[39;49m\u001b[43m \u001b[49m\u001b[38;5;241;43m2\u001b[39;49m\n",
      "\u001b[0;31mTypeError\u001b[0m: can only concatenate list (not \"int\") to list"
     ]
    }
   ],
   "source": [
    "[1] + 2\n",
    "#can only concatenate listt (not \"int\") to list"
   ]
  },
  {
   "cell_type": "code",
   "execution_count": 138,
   "id": "e8f8b9ed",
   "metadata": {},
   "outputs": [
    {
     "data": {
      "text/plain": [
       "[1, 2]"
      ]
     },
     "execution_count": 138,
     "metadata": {},
     "output_type": "execute_result"
    }
   ],
   "source": [
    "[1] + [2]\n"
   ]
  },
  {
   "cell_type": "code",
   "execution_count": 139,
   "id": "774b4b18",
   "metadata": {},
   "outputs": [
    {
     "data": {
      "text/plain": [
       "[1, 1]"
      ]
     },
     "execution_count": 139,
     "metadata": {},
     "output_type": "execute_result"
    }
   ],
   "source": [
    "[1] * 2\n"
   ]
  },
  {
   "cell_type": "code",
   "execution_count": 140,
   "id": "6b6a11f5",
   "metadata": {},
   "outputs": [
    {
     "ename": "TypeError",
     "evalue": "can't multiply sequence by non-int of type 'list'",
     "output_type": "error",
     "traceback": [
      "\u001b[0;31m---------------------------------------------------------------------------\u001b[0m",
      "\u001b[0;31mTypeError\u001b[0m                                 Traceback (most recent call last)",
      "Input \u001b[0;32mIn [140]\u001b[0m, in \u001b[0;36m<cell line: 1>\u001b[0;34m()\u001b[0m\n\u001b[0;32m----> 1\u001b[0m \u001b[43m[\u001b[49m\u001b[38;5;241;43m1\u001b[39;49m\u001b[43m]\u001b[49m\u001b[43m \u001b[49m\u001b[38;5;241;43m*\u001b[39;49m\u001b[43m \u001b[49m\u001b[43m[\u001b[49m\u001b[38;5;241;43m2\u001b[39;49m\u001b[43m]\u001b[49m\n",
      "\u001b[0;31mTypeError\u001b[0m: can't multiply sequence by non-int of type 'list'"
     ]
    }
   ],
   "source": [
    "[1] * [2]\n",
    "#can't multiply squence by non-in of type 'list'"
   ]
  },
  {
   "cell_type": "code",
   "execution_count": 141,
   "id": "3c019aed",
   "metadata": {},
   "outputs": [
    {
     "data": {
      "text/plain": [
       "True"
      ]
     },
     "execution_count": 141,
     "metadata": {},
     "output_type": "execute_result"
    }
   ],
   "source": [
    "[] + [] == []\n"
   ]
  },
  {
   "cell_type": "code",
   "execution_count": 142,
   "id": "e033ecd1",
   "metadata": {
    "scrolled": true
   },
   "outputs": [
    {
     "ename": "TypeError",
     "evalue": "unsupported operand type(s) for +: 'dict' and 'dict'",
     "output_type": "error",
     "traceback": [
      "\u001b[0;31m---------------------------------------------------------------------------\u001b[0m",
      "\u001b[0;31mTypeError\u001b[0m                                 Traceback (most recent call last)",
      "Input \u001b[0;32mIn [142]\u001b[0m, in \u001b[0;36m<cell line: 1>\u001b[0;34m()\u001b[0m\n\u001b[0;32m----> 1\u001b[0m \u001b[43m{\u001b[49m\u001b[43m}\u001b[49m\u001b[43m \u001b[49m\u001b[38;5;241;43m+\u001b[39;49m\u001b[43m \u001b[49m\u001b[43m{\u001b[49m\u001b[43m}\u001b[49m\n",
      "\u001b[0;31mTypeError\u001b[0m: unsupported operand type(s) for +: 'dict' and 'dict'"
     ]
    }
   ],
   "source": [
    "{} + {}\n",
    "#unsupported operand type(s) for +: 'dict' and 'dict'"
   ]
  },
  {
   "cell_type": "code",
   "execution_count": 144,
   "id": "3b1f3ce0",
   "metadata": {},
   "outputs": [
    {
     "data": {
      "text/plain": [
       "27"
      ]
     },
     "execution_count": 144,
     "metadata": {},
     "output_type": "execute_result"
    }
   ],
   "source": [
    "9 * 3"
   ]
  },
  {
   "cell_type": "code",
   "execution_count": 145,
   "id": "00f9e3f6",
   "metadata": {},
   "outputs": [
    {
     "data": {
      "text/plain": [
       "7420"
      ]
     },
     "execution_count": 145,
     "metadata": {},
     "output_type": "execute_result"
    }
   ],
   "source": [
    "(10 * 350) + (6 * 400) + (4 * 380)"
   ]
  },
  {
   "cell_type": "code",
   "execution_count": null,
   "id": "e7957dab",
   "metadata": {},
   "outputs": [],
   "source": [
    "Google: 400 dollars\n",
    "Amazon: 380 dollars\n",
    "Facebook: 350 dollars\n",
    "This week you worked: 10 hours for Facebook, 6 hours for Google and 4 hours for Amazon."
   ]
  },
  {
   "cell_type": "code",
   "execution_count": 150,
   "id": "c89950dc",
   "metadata": {},
   "outputs": [],
   "source": [
    "enrolled_class = True\n",
    "class_not_full = False\n",
    "class_schedule_conflict = False\n"
   ]
  },
  {
   "cell_type": "code",
   "execution_count": 151,
   "id": "17e6be87",
   "metadata": {},
   "outputs": [
    {
     "name": "stdout",
     "output_type": "stream",
     "text": [
      "True\n"
     ]
    }
   ],
   "source": [
    "class_not_full == class_schedule_conflict\n",
    "print(enrolled_class)"
   ]
  },
  {
   "cell_type": "code",
   "execution_count": null,
   "id": "4bcb5a8d",
   "metadata": {},
   "outputs": [],
   "source": [
    "8. A product offer can be applied only if people buys more than 2 items, and the offer has not expired. Premium members do not need to buy a specific amount of products."
   ]
  },
  {
   "cell_type": "code",
   "execution_count": 152,
   "id": "f28c8ea7",
   "metadata": {},
   "outputs": [],
   "source": [
    "regular_member_buy_two = True\n",
    "offer_expired = False\n",
    "premium_members_buy_two = False\n",
    "product_offer = True"
   ]
  },
  {
   "cell_type": "code",
   "execution_count": 154,
   "id": "ec71973a",
   "metadata": {},
   "outputs": [
    {
     "name": "stdout",
     "output_type": "stream",
     "text": [
      "True\n"
     ]
    }
   ],
   "source": [
    "offer_expired != regular_member_buy_two \n",
    "print(product_offer)"
   ]
  },
  {
   "cell_type": "code",
   "execution_count": 155,
   "id": "2e3d2043",
   "metadata": {},
   "outputs": [
    {
     "name": "stdout",
     "output_type": "stream",
     "text": [
      "True\n"
     ]
    }
   ],
   "source": [
    "premium_members_buy_two != regular_member_buy_two\n",
    "print(product_offer)"
   ]
  },
  {
   "cell_type": "code",
   "execution_count": null,
   "id": "40c610e0",
   "metadata": {},
   "outputs": [],
   "source": [
    "Create a variable that holds a boolean value for each of the following conditions:\n",
    "\n",
    "The password must be at least 5 characters\n",
    "The username must be no more than 20 characters\n",
    "The password must not be the same as the username\n",
    "Bonus Neither the username or password can start or end with whitespace"
   ]
  },
  {
   "cell_type": "code",
   "execution_count": 156,
   "id": "2ea8c22f",
   "metadata": {},
   "outputs": [],
   "source": [
    "password = 'jackrabbit'\n",
    "username = 'BuggsBunny'"
   ]
  },
  {
   "cell_type": "code",
   "execution_count": 157,
   "id": "ea546be1",
   "metadata": {},
   "outputs": [
    {
     "data": {
      "text/plain": [
       "'BuggsBunny'"
      ]
     },
     "execution_count": 157,
     "metadata": {},
     "output_type": "execute_result"
    }
   ],
   "source": [
    "username"
   ]
  },
  {
   "cell_type": "code",
   "execution_count": 158,
   "id": "4e6b07d4",
   "metadata": {},
   "outputs": [
    {
     "data": {
      "text/plain": [
       "'jackrabbit'"
      ]
     },
     "execution_count": 158,
     "metadata": {},
     "output_type": "execute_result"
    }
   ],
   "source": [
    "password"
   ]
  },
  {
   "cell_type": "code",
   "execution_count": null,
   "id": "90a1dbad",
   "metadata": {},
   "outputs": [],
   "source": []
  }
 ],
 "metadata": {
  "kernelspec": {
   "display_name": "Python 3 (ipykernel)",
   "language": "python",
   "name": "python3"
  },
  "language_info": {
   "codemirror_mode": {
    "name": "ipython",
    "version": 3
   },
   "file_extension": ".py",
   "mimetype": "text/x-python",
   "name": "python",
   "nbconvert_exporter": "python",
   "pygments_lexer": "ipython3",
   "version": "3.9.13"
  }
 },
 "nbformat": 4,
 "nbformat_minor": 5
}
