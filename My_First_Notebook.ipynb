{
 "cells": [
  {
   "cell_type": "code",
   "execution_count": 1,
   "id": "59235637",
   "metadata": {},
   "outputs": [
    {
     "data": {
      "text/plain": [
       "7"
      ]
     },
     "execution_count": 1,
     "metadata": {},
     "output_type": "execute_result"
    }
   ],
   "source": [
    "3 + 4 "
   ]
  },
  {
   "cell_type": "markdown",
   "id": "915e6d3f",
   "metadata": {},
   "source": [
    "# This is for Markdown\n",
    "\n",
    "##### Heading\n",
    "\n",
    "\n",
    "- List item 1\n",
    "- List item 2"
   ]
  },
  {
   "cell_type": "markdown",
   "id": "059fa45e",
   "metadata": {},
   "source": [
    "New cell after current call\n",
    "ESC + B"
   ]
  },
  {
   "cell_type": "markdown",
   "id": "4b23807a",
   "metadata": {},
   "source": [
    "New cell after next cell\n",
    "ESC + A "
   ]
  },
  {
   "cell_type": "code",
   "execution_count": null,
   "id": "0a3d7ed4",
   "metadata": {},
   "outputs": [],
   "source": []
  }
 ],
 "metadata": {
  "kernelspec": {
   "display_name": "Python 3 (ipykernel)",
   "language": "python",
   "name": "python3"
  },
  "language_info": {
   "codemirror_mode": {
    "name": "ipython",
    "version": 3
   },
   "file_extension": ".py",
   "mimetype": "text/x-python",
   "name": "python",
   "nbconvert_exporter": "python",
   "pygments_lexer": "ipython3",
   "version": "3.9.13"
  }
 },
 "nbformat": 4,
 "nbformat_minor": 5
}
