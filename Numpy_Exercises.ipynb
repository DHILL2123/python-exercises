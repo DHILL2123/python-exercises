{
 "cells": [
  {
   "cell_type": "code",
   "execution_count": 21,
   "id": "f7b15b2e",
   "metadata": {},
   "outputs": [
    {
     "data": {
      "text/plain": [
       "array([ 4, 10, 12, 23, -2, -1,  0,  0,  0, -6,  3, -7])"
      ]
     },
     "execution_count": 21,
     "metadata": {},
     "output_type": "execute_result"
    }
   ],
   "source": [
    "import numpy as np\n",
    "a = np.array([4, 10, 12, 23, -2, -1, 0, 0, 0, -6, 3, -7])\n",
    "a"
   ]
  },
  {
   "cell_type": "code",
   "execution_count": 34,
   "id": "48752f83",
   "metadata": {},
   "outputs": [
    {
     "data": {
      "text/plain": [
       "array([False, False, False, False,  True,  True, False, False, False,\n",
       "        True, False,  True])"
      ]
     },
     "execution_count": 34,
     "metadata": {},
     "output_type": "execute_result"
    }
   ],
   "source": [
    "#How many negative numbers are there\n",
    "#4\n",
    "num = a < 0\n",
    "num"
   ]
  },
  {
   "cell_type": "code",
   "execution_count": 37,
   "id": "3db2e03c",
   "metadata": {},
   "outputs": [
    {
     "data": {
      "text/plain": [
       "array([[ True,  True,  True,  True, False, False, False, False, False,\n",
       "        False,  True, False]])"
      ]
     },
     "execution_count": 37,
     "metadata": {},
     "output_type": "execute_result"
    }
   ],
   "source": [
    "#How many positive numbers are there?\n",
    "#5\n",
    "num = a > 0\n",
    "num"
   ]
  },
  {
   "cell_type": "code",
   "execution_count": 38,
   "id": "652b3fcd",
   "metadata": {},
   "outputs": [
    {
     "data": {
      "text/plain": [
       "array([ True,  True,  True, False,  True, False,  True,  True,  True,\n",
       "        True, False, False])"
      ]
     },
     "execution_count": 38,
     "metadata": {},
     "output_type": "execute_result"
    }
   ],
   "source": [
    "#How many even positive numbers are there?\n",
    "#8\n",
    "num = a % 2 == 0\n",
    "num"
   ]
  },
  {
   "cell_type": "code",
   "execution_count": 41,
   "id": "2ef6c1de",
   "metadata": {},
   "outputs": [
    {
     "data": {
      "text/plain": [
       "array([ True,  True,  True,  True,  True,  True,  True,  True,  True,\n",
       "       False,  True, False])"
      ]
     },
     "execution_count": 41,
     "metadata": {},
     "output_type": "execute_result"
    }
   ],
   "source": [
    "#If you were to add 3 to each data point, how many positive numbers would there be?\n",
    "#10\n",
    "num = (a + 3) > 0\n",
    "num"
   ]
  },
  {
   "cell_type": "code",
   "execution_count": 58,
   "id": "72fb1885",
   "metadata": {},
   "outputs": [
    {
     "data": {
      "text/plain": [
       "array([ 4, 10, 12, 23, -2, -1,  0,  0,  0, -6,  3, -7])"
      ]
     },
     "execution_count": 58,
     "metadata": {},
     "output_type": "execute_result"
    }
   ],
   "source": [
    "#If you squared each number, what would the new mean and standard deviation be?\n",
    "a = np.array([4, 10, 12, 23, -2, -1, 0, 0, 0, -6, 3, -7])\n",
    "a"
   ]
  },
  {
   "cell_type": "code",
   "execution_count": 59,
   "id": "f00bc4c6",
   "metadata": {},
   "outputs": [
    {
     "data": {
      "text/plain": [
       "array([ 16, 100, 144, 529,   4,   1,   0,   0,   0,  36,   9,  49])"
      ]
     },
     "execution_count": 59,
     "metadata": {},
     "output_type": "execute_result"
    }
   ],
   "source": [
    "#squared each value in num\n",
    "num = a ** 2\n",
    "num"
   ]
  },
  {
   "cell_type": "code",
   "execution_count": 60,
   "id": "74c7b9f0",
   "metadata": {},
   "outputs": [
    {
     "data": {
      "text/plain": [
       "74.0"
      ]
     },
     "execution_count": 60,
     "metadata": {},
     "output_type": "execute_result"
    }
   ],
   "source": [
    "#mean value\n",
    "np.mean(num)"
   ]
  },
  {
   "cell_type": "code",
   "execution_count": 61,
   "id": "7dfccd51",
   "metadata": {},
   "outputs": [
    {
     "data": {
      "text/plain": [
       "144.02"
      ]
     },
     "execution_count": 61,
     "metadata": {},
     "output_type": "execute_result"
    }
   ],
   "source": [
    "#standard diviation array elements\n",
    "np.std(num)\n",
    "std_num = np.std(num)\n",
    "np.round(std_num, 2)"
   ]
  },
  {
   "cell_type": "code",
   "execution_count": 65,
   "id": "c2292360",
   "metadata": {},
   "outputs": [
    {
     "data": {
      "text/plain": [
       "array([ 4, 10, 12, 23, -2, -1,  0,  0,  0, -6,  3, -7])"
      ]
     },
     "execution_count": 65,
     "metadata": {},
     "output_type": "execute_result"
    }
   ],
   "source": [
    "####Centering####\n",
    "\n",
    "#original array below\n",
    "a = np.array([4, 10, 12, 23, -2, -1, 0, 0, 0, -6, 3, -7])\n",
    "a"
   ]
  },
  {
   "cell_type": "code",
   "execution_count": 66,
   "id": "1707e906",
   "metadata": {},
   "outputs": [
    {
     "data": {
      "text/plain": [
       "3.0"
      ]
     },
     "execution_count": 66,
     "metadata": {},
     "output_type": "execute_result"
    }
   ],
   "source": [
    "np.mean(a)"
   ]
  },
  {
   "cell_type": "code",
   "execution_count": 62,
   "id": "c0e8bae8",
   "metadata": {},
   "outputs": [],
   "source": [
    "# created function to center data\n",
    "center_function = lambda x: x - x.mean()"
   ]
  },
  {
   "cell_type": "code",
   "execution_count": 63,
   "id": "72344e9c",
   "metadata": {},
   "outputs": [],
   "source": [
    "# apply created center function to numpy array \n",
    "data_centered = center_function(a)"
   ]
  },
  {
   "cell_type": "code",
   "execution_count": 64,
   "id": "c23b2fd3",
   "metadata": {},
   "outputs": [
    {
     "name": "stdout",
     "output_type": "stream",
     "text": [
      "[  1.   7.   9.  20.  -5.  -4.  -3.  -3.  -3.  -9.   0. -10.]\n"
     ]
    }
   ],
   "source": [
    "#view the updated array\n",
    "print(data_centered)"
   ]
  },
  {
   "cell_type": "code",
   "execution_count": 67,
   "id": "16e8d51e",
   "metadata": {},
   "outputs": [
    {
     "name": "stdout",
     "output_type": "stream",
     "text": [
      "0.0\n"
     ]
    }
   ],
   "source": [
    "#verify the mean of the centered array is 0\n",
    "print(data_centered.mean())"
   ]
  },
  {
   "cell_type": "code",
   "execution_count": 78,
   "id": "6704baad",
   "metadata": {},
   "outputs": [
    {
     "data": {
      "text/plain": [
       "array([-1.24034735, -1.11631261, -0.62017367, -0.49613894, -0.3721042 ,\n",
       "       -0.3721042 , -0.3721042 ,  0.        ,  0.12403473,  0.86824314,\n",
       "        1.11631261,  2.48069469])"
      ]
     },
     "execution_count": 78,
     "metadata": {},
     "output_type": "execute_result"
    }
   ],
   "source": [
    "#Calculate the z-score for each data point. Recall that the z-score is given by: Z = (x - μ) / σ\n",
    "#Calculate z-score of one dimensional numpy array\n",
    "\n",
    "import pandas as pd\n",
    "import numpy as np\n",
    "import scipy.stats as stats\n",
    "\n",
    "#create your np array\n",
    "a = np.array([4, 10, 12, 23, -2, -1, 0, 0, 0, -6, 3, -7])\n",
    "\n",
    "#puts the array in order asc\n",
    "a.sort()\n",
    "\n",
    "#use function stats.zscore(a) by passing in your variable a \n",
    "stats.zscore(a)\n",
    "\n",
    "#each z-score tells us how many standard deviations away an individual value is from the mean.\n"
   ]
  },
  {
   "cell_type": "code",
   "execution_count": 79,
   "id": "d2eed0f0",
   "metadata": {},
   "outputs": [],
   "source": [
    "####Multi-Dimensional Arrays####\n",
    "\n",
    "#If we have a multi-dimensional array, we can use the axis parameter \n",
    "#to specify that we want to calculate each z-score relative to its own array\n",
    "\n",
    "data = np.array([[5, 6, 7, 7, 8],\n",
    "                 [8, 8, 8, 9, 9],\n",
    "                 [2, 2, 4, 4, 5]])"
   ]
  },
  {
   "cell_type": "code",
   "execution_count": 80,
   "id": "8d50d055",
   "metadata": {},
   "outputs": [
    {
     "data": {
      "text/plain": [
       "array([[-1.56892908, -0.58834841,  0.39223227,  0.39223227,  1.37281295],\n",
       "       [-0.81649658, -0.81649658, -0.81649658,  1.22474487,  1.22474487],\n",
       "       [-1.16666667, -1.16666667,  0.5       ,  0.5       ,  1.33333333]])"
      ]
     },
     "execution_count": 80,
     "metadata": {},
     "output_type": "execute_result"
    }
   ],
   "source": [
    "#We can use the following syntax to calculate the z-scores for each array\n",
    "stats.zscore(data, axis=1)\n",
    "\n",
    "#The z-scores for each individual value are shown relative to the array they’re in"
   ]
  },
  {
   "cell_type": "code",
   "execution_count": null,
   "id": "b2dcbc56",
   "metadata": {},
   "outputs": [],
   "source": []
  }
 ],
 "metadata": {
  "kernelspec": {
   "display_name": "Python 3 (ipykernel)",
   "language": "python",
   "name": "python3"
  },
  "language_info": {
   "codemirror_mode": {
    "name": "ipython",
    "version": 3
   },
   "file_extension": ".py",
   "mimetype": "text/x-python",
   "name": "python",
   "nbconvert_exporter": "python",
   "pygments_lexer": "ipython3",
   "version": "3.9.13"
  }
 },
 "nbformat": 4,
 "nbformat_minor": 5
}
