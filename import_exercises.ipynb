{
 "cells": [
  {
   "cell_type": "markdown",
   "id": "d3bf3d83",
   "metadata": {},
   "source": [
    "#Create a jupyter notebook named Create a jupyter notebook named import_exercises.ipynb. \n",
    "#Use from to import the get_letter_grade function and give it an alias. \n",
    "#Test this function in your notebook.\n",
    "#Make sure your code that tests the function imports is run \n",
    "#from the same directory that your functions exercise file is in.. \n",
    "#Use from to import the get_letter_grade function and give it an alias. \n",
    "#Test this function in your notebook.\n",
    "#Make sure your code that tests the function imports is run from the same directory \n",
    "#that your functions exercise file is in."
   ]
  },
  {
   "cell_type": "code",
   "execution_count": 5,
   "id": "f4d616ad",
   "metadata": {},
   "outputs": [],
   "source": [
    "from function_exercises import calculate_tip"
   ]
  },
  {
   "cell_type": "code",
   "execution_count": 4,
   "id": "b3b78d9b",
   "metadata": {},
   "outputs": [
    {
     "data": {
      "text/plain": [
       "20.0"
      ]
     },
     "execution_count": 4,
     "metadata": {},
     "output_type": "execute_result"
    }
   ],
   "source": [
    "calculate_tip(100, .2)"
   ]
  },
  {
   "cell_type": "markdown",
   "id": "08df4f02",
   "metadata": {},
   "source": []
  },
  {
   "cell_type": "code",
   "execution_count": null,
   "id": "9e54b8b3",
   "metadata": {},
   "outputs": [],
   "source": []
  }
 ],
 "metadata": {
  "kernelspec": {
   "display_name": "Python 3 (ipykernel)",
   "language": "python",
   "name": "python3"
  },
  "language_info": {
   "codemirror_mode": {
    "name": "ipython",
    "version": 3
   },
   "file_extension": ".py",
   "mimetype": "text/x-python",
   "name": "python",
   "nbconvert_exporter": "python",
   "pygments_lexer": "ipython3",
   "version": "3.9.13"
  }
 },
 "nbformat": 4,
 "nbformat_minor": 5
}
