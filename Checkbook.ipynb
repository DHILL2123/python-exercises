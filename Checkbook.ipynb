{
 "cells": [
  {
   "cell_type": "code",
   "execution_count": null,
   "id": "2741d6c0",
   "metadata": {},
   "outputs": [],
   "source": [
    "currentbal = 100\n",
    "user_input = ('1','2','3','4')"
   ]
  },
  {
   "cell_type": "code",
   "execution_count": 41,
   "id": "a54be774",
   "metadata": {},
   "outputs": [
    {
     "name": "stdout",
     "output_type": "stream",
     "text": [
      "~~~ Welcome to your terminal checkbook! ~~~\n",
      "\n",
      "\n",
      "What would you like to do?\n",
      "\n",
      "\n",
      "1) view current balance\n",
      "2) record a debit(withdraw)\n",
      "3) record a credit(deposit)\n",
      "4) exit\n",
      "\n",
      "\n",
      "Please make a selection: 1\n",
      "\n",
      "\n",
      "Your current balance is 0\n",
      "\n",
      "\n",
      "~~~ Welcome to your terminal checkbook! ~~~\n",
      "\n",
      "\n",
      "What would you like to do?\n",
      "\n",
      "\n",
      "1) view current balance\n",
      "2) record a debit(withdraw)\n",
      "3) record a credit(deposit)\n",
      "4) exit\n",
      "\n",
      "\n",
      "Please make a selection: 300\n",
      "\n",
      "\n",
      "Incorrect response, please try again\n",
      "\n",
      "\n",
      "~~~ Welcome to your terminal checkbook! ~~~\n",
      "\n",
      "\n",
      "What would you like to do?\n",
      "\n",
      "\n",
      "1) view current balance\n",
      "2) record a debit(withdraw)\n",
      "3) record a credit(deposit)\n",
      "4) exit\n",
      "\n",
      "\n",
      "Please make a selection: 3\n",
      "\n",
      "\n",
      "How much is the deposit? 300\n",
      "\n",
      "\n",
      "Your current balance is 300\n",
      "\n",
      "\n",
      "~~~ Welcome to your terminal checkbook! ~~~\n",
      "\n",
      "\n",
      "What would you like to do?\n",
      "\n",
      "\n",
      "1) view current balance\n",
      "2) record a debit(withdraw)\n",
      "3) record a credit(deposit)\n",
      "4) exit\n",
      "\n",
      "\n"
     ]
    },
    {
     "ename": "KeyboardInterrupt",
     "evalue": "Interrupted by user",
     "output_type": "error",
     "traceback": [
      "\u001b[0;31m---------------------------------------------------------------------------\u001b[0m",
      "\u001b[0;31mKeyboardInterrupt\u001b[0m                         Traceback (most recent call last)",
      "Input \u001b[0;32mIn [41]\u001b[0m, in \u001b[0;36m<cell line: 1>\u001b[0;34m()\u001b[0m\n\u001b[0;32m----> 1\u001b[0m \u001b[38;5;28;01mimport\u001b[39;00m \u001b[38;5;21;01mcheckbook\u001b[39;00m\u001b[38;5;21;01m.\u001b[39;00m\u001b[38;5;21;01mrft\u001b[39;00m\n\u001b[1;32m      2\u001b[0m \u001b[38;5;28;01mimport\u001b[39;00m \u001b[38;5;21;01mos\u001b[39;00m\n\u001b[1;32m      4\u001b[0m currentbal \u001b[38;5;241m=\u001b[39m \u001b[38;5;241m100\u001b[39m\n",
      "File \u001b[0;32m~/codeup-data-science/python-exercises/checkbook.py:19\u001b[0m, in \u001b[0;36m<module>\u001b[0;34m\u001b[0m\n\u001b[1;32m     16\u001b[0m \u001b[38;5;28mprint\u001b[39m(\u001b[38;5;124m'\u001b[39m\u001b[38;5;124m4) exit\u001b[39m\u001b[38;5;124m'\u001b[39m)\n\u001b[1;32m     17\u001b[0m \u001b[38;5;28mprint\u001b[39m(\u001b[38;5;124m'\u001b[39m\u001b[38;5;130;01m\\n\u001b[39;00m\u001b[38;5;124m'\u001b[39m)\n\u001b[0;32m---> 19\u001b[0m user_input \u001b[38;5;241m=\u001b[39m \u001b[38;5;28;43minput\u001b[39;49m\u001b[43m(\u001b[49m\u001b[38;5;124;43m'\u001b[39;49m\u001b[38;5;124;43mPlease make a selection: \u001b[39;49m\u001b[38;5;124;43m'\u001b[39;49m\u001b[43m)\u001b[49m\n\u001b[1;32m     20\u001b[0m \u001b[38;5;28mprint\u001b[39m(\u001b[38;5;124m'\u001b[39m\u001b[38;5;130;01m\\n\u001b[39;00m\u001b[38;5;124m'\u001b[39m)\n\u001b[1;32m     22\u001b[0m \u001b[38;5;28;01mif\u001b[39;00m user_input \u001b[38;5;241m==\u001b[39m \u001b[38;5;124m'\u001b[39m\u001b[38;5;124m1\u001b[39m\u001b[38;5;124m'\u001b[39m:\n",
      "File \u001b[0;32m/opt/homebrew/anaconda3/lib/python3.9/site-packages/ipykernel/kernelbase.py:1177\u001b[0m, in \u001b[0;36mKernel.raw_input\u001b[0;34m(self, prompt)\u001b[0m\n\u001b[1;32m   1173\u001b[0m \u001b[38;5;28;01mif\u001b[39;00m \u001b[38;5;129;01mnot\u001b[39;00m \u001b[38;5;28mself\u001b[39m\u001b[38;5;241m.\u001b[39m_allow_stdin:\n\u001b[1;32m   1174\u001b[0m     \u001b[38;5;28;01mraise\u001b[39;00m StdinNotImplementedError(\n\u001b[1;32m   1175\u001b[0m         \u001b[38;5;124m\"\u001b[39m\u001b[38;5;124mraw_input was called, but this frontend does not support input requests.\u001b[39m\u001b[38;5;124m\"\u001b[39m\n\u001b[1;32m   1176\u001b[0m     )\n\u001b[0;32m-> 1177\u001b[0m \u001b[38;5;28;01mreturn\u001b[39;00m \u001b[38;5;28;43mself\u001b[39;49m\u001b[38;5;241;43m.\u001b[39;49m\u001b[43m_input_request\u001b[49m\u001b[43m(\u001b[49m\n\u001b[1;32m   1178\u001b[0m \u001b[43m    \u001b[49m\u001b[38;5;28;43mstr\u001b[39;49m\u001b[43m(\u001b[49m\u001b[43mprompt\u001b[49m\u001b[43m)\u001b[49m\u001b[43m,\u001b[49m\n\u001b[1;32m   1179\u001b[0m \u001b[43m    \u001b[49m\u001b[38;5;28;43mself\u001b[39;49m\u001b[38;5;241;43m.\u001b[39;49m\u001b[43m_parent_ident\u001b[49m\u001b[43m[\u001b[49m\u001b[38;5;124;43m\"\u001b[39;49m\u001b[38;5;124;43mshell\u001b[39;49m\u001b[38;5;124;43m\"\u001b[39;49m\u001b[43m]\u001b[49m\u001b[43m,\u001b[49m\n\u001b[1;32m   1180\u001b[0m \u001b[43m    \u001b[49m\u001b[38;5;28;43mself\u001b[39;49m\u001b[38;5;241;43m.\u001b[39;49m\u001b[43mget_parent\u001b[49m\u001b[43m(\u001b[49m\u001b[38;5;124;43m\"\u001b[39;49m\u001b[38;5;124;43mshell\u001b[39;49m\u001b[38;5;124;43m\"\u001b[39;49m\u001b[43m)\u001b[49m\u001b[43m,\u001b[49m\n\u001b[1;32m   1181\u001b[0m \u001b[43m    \u001b[49m\u001b[43mpassword\u001b[49m\u001b[38;5;241;43m=\u001b[39;49m\u001b[38;5;28;43;01mFalse\u001b[39;49;00m\u001b[43m,\u001b[49m\n\u001b[1;32m   1182\u001b[0m \u001b[43m\u001b[49m\u001b[43m)\u001b[49m\n",
      "File \u001b[0;32m/opt/homebrew/anaconda3/lib/python3.9/site-packages/ipykernel/kernelbase.py:1219\u001b[0m, in \u001b[0;36mKernel._input_request\u001b[0;34m(self, prompt, ident, parent, password)\u001b[0m\n\u001b[1;32m   1216\u001b[0m             \u001b[38;5;28;01mbreak\u001b[39;00m\n\u001b[1;32m   1217\u001b[0m \u001b[38;5;28;01mexcept\u001b[39;00m \u001b[38;5;167;01mKeyboardInterrupt\u001b[39;00m:\n\u001b[1;32m   1218\u001b[0m     \u001b[38;5;66;03m# re-raise KeyboardInterrupt, to truncate traceback\u001b[39;00m\n\u001b[0;32m-> 1219\u001b[0m     \u001b[38;5;28;01mraise\u001b[39;00m \u001b[38;5;167;01mKeyboardInterrupt\u001b[39;00m(\u001b[38;5;124m\"\u001b[39m\u001b[38;5;124mInterrupted by user\u001b[39m\u001b[38;5;124m\"\u001b[39m) \u001b[38;5;28;01mfrom\u001b[39;00m \u001b[38;5;28mNone\u001b[39m\n\u001b[1;32m   1220\u001b[0m \u001b[38;5;28;01mexcept\u001b[39;00m \u001b[38;5;167;01mException\u001b[39;00m:\n\u001b[1;32m   1221\u001b[0m     \u001b[38;5;28mself\u001b[39m\u001b[38;5;241m.\u001b[39mlog\u001b[38;5;241m.\u001b[39mwarning(\u001b[38;5;124m\"\u001b[39m\u001b[38;5;124mInvalid Message:\u001b[39m\u001b[38;5;124m\"\u001b[39m, exc_info\u001b[38;5;241m=\u001b[39m\u001b[38;5;28;01mTrue\u001b[39;00m)\n",
      "\u001b[0;31mKeyboardInterrupt\u001b[0m: Interrupted by user"
     ]
    }
   ],
   "source": [
    "import checkbook.rft\n",
    "import os\n",
    "\n",
    "while user_input == '1' or '2' or '3' or '4':\n",
    "    print(\"~~~ Welcome to your terminal checkbook! ~~~\")\n",
    "    print('\\n')\n",
    "    print('What would you like to do?')\n",
    "    print('\\n')\n",
    "    print('1) view current balance')\n",
    "    print('2) record a debit(withdraw)')\n",
    "    print('3) record a credit(deposit)')\n",
    "    print('4) exit')\n",
    "    print('\\n')\n",
    "    \n",
    "    user_input = input('Please make a selection: ')\n",
    "    print('\\n')\n",
    "    \n",
    "    if user_input == '1':\n",
    "        print(f'Your current balance is {currentbal}')\n",
    "        print('\\n')\n",
    "    \n",
    "   \n",
    "        \n",
    "    elif user_input == '2':\n",
    "            debit_input = input('How much is the debit? ')\n",
    "            print('\\n')\n",
    "            currentbal = currentbal - int(debit_input)\n",
    "            print(f'Your current balance is {currentbal}')\n",
    "            print('\\n')\n",
    "    \n",
    "    elif user_input == '3':\n",
    "            deposit_input = input('How much is the deposit? ')\n",
    "            print('\\n')\n",
    "            currentbal = currentbal + int(deposit_input)\n",
    "            print(f'Your current balance is {currentbal}')\n",
    "            print('\\n')\n",
    "    \n",
    "    elif user_input == '4':\n",
    "        print('Thank you have a nice day!')\n",
    "        user_input == '5'\n",
    "        break\n",
    "    \n",
    "    else:\n",
    "        \n",
    "        print('Incorrect response, please try again ')\n",
    "        print('\\n')\n",
    "    \n",
    "        \n",
    "      \n",
    "      \n",
    "            \n",
    "            \n",
    "\n",
    "        \n",
    "    \n",
    "        \n",
    "        \n",
    "        \n",
    "\n",
    "\n",
    "\n",
    "\n",
    "\n",
    "        \n",
    "   \n",
    "\n",
    "        \n",
    "    \n",
    "\n",
    "\n",
    "            \n",
    "   \n",
    "        \n",
    "        \n",
    "    "
   ]
  },
  {
   "cell_type": "code",
   "execution_count": 10,
   "id": "1e3f889b",
   "metadata": {},
   "outputs": [],
   "source": [
    "f = open('checkbook.csv', 'r')"
   ]
  },
  {
   "cell_type": "code",
   "execution_count": 12,
   "id": "d51ee3b2",
   "metadata": {},
   "outputs": [],
   "source": [
    "contents = f.read()"
   ]
  },
  {
   "cell_type": "code",
   "execution_count": 13,
   "id": "4009c405",
   "metadata": {},
   "outputs": [
    {
     "data": {
      "text/plain": [
       "['']"
      ]
     },
     "execution_count": 13,
     "metadata": {},
     "output_type": "execute_result"
    }
   ],
   "source": [
    "contents.split('\\n')"
   ]
  },
  {
   "cell_type": "code",
   "execution_count": 42,
   "id": "3f81f229",
   "metadata": {},
   "outputs": [],
   "source": [
    "\n",
    "# with open ==> file location, interaction\n",
    "with open('checkbook.rtf', 'w') as f:\n",
    "    f.write(str(currentbal))"
   ]
  },
  {
   "cell_type": "code",
   "execution_count": 43,
   "id": "349629f4",
   "metadata": {},
   "outputs": [],
   "source": [
    "with open('checkbook.rtf')as f:\n",
    "    data = f.read()\n",
    "    f.close()"
   ]
  },
  {
   "cell_type": "code",
   "execution_count": 44,
   "id": "74add3db",
   "metadata": {},
   "outputs": [
    {
     "data": {
      "text/plain": [
       "'0'"
      ]
     },
     "execution_count": 44,
     "metadata": {},
     "output_type": "execute_result"
    }
   ],
   "source": [
    "data"
   ]
  },
  {
   "cell_type": "code",
   "execution_count": 18,
   "id": "9473a649",
   "metadata": {},
   "outputs": [],
   "source": [
    "import os"
   ]
  },
  {
   "cell_type": "code",
   "execution_count": 19,
   "id": "b6ecb651",
   "metadata": {},
   "outputs": [
    {
     "name": "stdout",
     "output_type": "stream",
     "text": [
      "yay it exists!\n"
     ]
    }
   ],
   "source": [
    "if os.path.exists(\n",
    "    'checkbook.csv'):\n",
    "    print('yay it exists!')\n",
    "    with open('checkbook.csv', 'r') as f:\n",
    "        lines = f.readlines()\n",
    "else:\n",
    "    print('does not exist')\n",
    "    with open('checkbook', 'w') as f:\n",
    "        f.write('brand new file!')"
   ]
  },
  {
   "cell_type": "code",
   "execution_count": 35,
   "id": "6ac0f1a8",
   "metadata": {},
   "outputs": [],
   "source": [
    "with open('checkbook.csv', 'w') as f:\n",
    "    f.writelines(['{currentbal}\\n'])"
   ]
  },
  {
   "cell_type": "code",
   "execution_count": 36,
   "id": "2a4083f4",
   "metadata": {},
   "outputs": [],
   "source": [
    "with open('checkbook.csv','r') as f:\n",
    "    check_book_csv = f.readlines()"
   ]
  },
  {
   "cell_type": "code",
   "execution_count": 48,
   "id": "44b93ea2",
   "metadata": {},
   "outputs": [
    {
     "data": {
      "text/plain": [
       "['{currentbal}\\n']"
      ]
     },
     "execution_count": 48,
     "metadata": {},
     "output_type": "execute_result"
    }
   ],
   "source": [
    "check_book_csv"
   ]
  },
  {
   "cell_type": "code",
   "execution_count": 26,
   "id": "334cd8a2",
   "metadata": {},
   "outputs": [],
   "source": [
    "import csv"
   ]
  },
  {
   "cell_type": "code",
   "execution_count": null,
   "id": "7bdf2c21",
   "metadata": {},
   "outputs": [],
   "source": []
  },
  {
   "cell_type": "code",
   "execution_count": null,
   "id": "1560cb34",
   "metadata": {},
   "outputs": [],
   "source": []
  },
  {
   "cell_type": "code",
   "execution_count": null,
   "id": "03aa5b54",
   "metadata": {},
   "outputs": [],
   "source": []
  },
  {
   "cell_type": "code",
   "execution_count": null,
   "id": "02a0c198",
   "metadata": {},
   "outputs": [],
   "source": []
  },
  {
   "cell_type": "code",
   "execution_count": 2,
   "id": "07fdb17b",
   "metadata": {},
   "outputs": [
    {
     "ename": "NameError",
     "evalue": "name 'currentbal' is not defined",
     "output_type": "error",
     "traceback": [
      "\u001b[0;31m---------------------------------------------------------------------------\u001b[0m",
      "\u001b[0;31mNameError\u001b[0m                                 Traceback (most recent call last)",
      "Input \u001b[0;32mIn [2]\u001b[0m, in \u001b[0;36m<cell line: 1>\u001b[0;34m()\u001b[0m\n\u001b[0;32m----> 1\u001b[0m bal \u001b[38;5;241m=\u001b[39m \u001b[43mcurrentbal\u001b[49m\n\u001b[1;32m      2\u001b[0m \u001b[38;5;28;01mdef\u001b[39;00m \u001b[38;5;21mbalance\u001b[39m(bal):\n\u001b[1;32m      3\u001b[0m     \u001b[38;5;28;01mif\u001b[39;00m user_input \u001b[38;5;241m==\u001b[39m \u001b[38;5;124m'\u001b[39m\u001b[38;5;124m1\u001b[39m\u001b[38;5;124m'\u001b[39m:\n",
      "\u001b[0;31mNameError\u001b[0m: name 'currentbal' is not defined"
     ]
    }
   ],
   "source": [
    "bal = currentbal\n",
    "def balance(bal):\n",
    "    if user_input == '1':\n",
    "        print(f'Your current balance is {currentbal}')\n",
    "        print('\\n')\n",
    "    \n",
    "    return currentbal\n",
    "\n"
   ]
  },
  {
   "cell_type": "code",
   "execution_count": 1,
   "id": "d476f26a",
   "metadata": {},
   "outputs": [
    {
     "ename": "NameError",
     "evalue": "name 'balance' is not defined",
     "output_type": "error",
     "traceback": [
      "\u001b[0;31m---------------------------------------------------------------------------\u001b[0m",
      "\u001b[0;31mNameError\u001b[0m                                 Traceback (most recent call last)",
      "Input \u001b[0;32mIn [1]\u001b[0m, in \u001b[0;36m<cell line: 1>\u001b[0;34m()\u001b[0m\n\u001b[0;32m----> 1\u001b[0m \u001b[43mbalance\u001b[49m(bal)\n",
      "\u001b[0;31mNameError\u001b[0m: name 'balance' is not defined"
     ]
    }
   ],
   "source": [
    "balance(bal)"
   ]
  },
  {
   "cell_type": "code",
   "execution_count": null,
   "id": "92425bb8",
   "metadata": {},
   "outputs": [],
   "source": []
  },
  {
   "cell_type": "code",
   "execution_count": null,
   "id": "c4d83ed8",
   "metadata": {},
   "outputs": [],
   "source": []
  },
  {
   "cell_type": "code",
   "execution_count": 51,
   "id": "6eed6a10",
   "metadata": {},
   "outputs": [
    {
     "data": {
      "text/plain": [
       "500"
      ]
     },
     "execution_count": 51,
     "metadata": {},
     "output_type": "execute_result"
    }
   ],
   "source": []
  },
  {
   "cell_type": "code",
   "execution_count": 11,
   "id": "80bedff1",
   "metadata": {},
   "outputs": [],
   "source": [
    "deb = debit_input\n",
    "def debit(deb):\n",
    "    if user_input == '2':\n",
    "        print(f'You withdrew {deb}')\n",
    "        print('\\n')\n",
    "        print(f'Your current balance is {currentbal}')\n",
    "        print('\\n')\n",
    "    return deb\n",
    "        "
   ]
  },
  {
   "cell_type": "code",
   "execution_count": 12,
   "id": "888d0321",
   "metadata": {},
   "outputs": [
    {
     "data": {
      "text/plain": [
       "'200'"
      ]
     },
     "execution_count": 12,
     "metadata": {},
     "output_type": "execute_result"
    }
   ],
   "source": [
    "debit(deb)"
   ]
  },
  {
   "cell_type": "code",
   "execution_count": 13,
   "id": "e8d913c3",
   "metadata": {},
   "outputs": [],
   "source": [
    "cred = deposit_input\n",
    "def credit(cred):\n",
    "    if user_input == '3':\n",
    "        print(f'You deposited {cred}')\n",
    "        print('\\n')\n",
    "        print(f'Your current balance is {currentbal}')\n",
    "    return cred\n",
    "        \n"
   ]
  },
  {
   "cell_type": "code",
   "execution_count": 14,
   "id": "541b8e3c",
   "metadata": {},
   "outputs": [
    {
     "data": {
      "text/plain": [
       "'200'"
      ]
     },
     "execution_count": 14,
     "metadata": {},
     "output_type": "execute_result"
    }
   ],
   "source": [
    "credit(cred)"
   ]
  },
  {
   "cell_type": "code",
   "execution_count": 5,
   "id": "56f7e078",
   "metadata": {},
   "outputs": [],
   "source": [
    "def exit():\n",
    "    if user_input == '4':\n",
    "        print('Thank you have a nice day!')\n",
    "    \n"
   ]
  },
  {
   "cell_type": "code",
   "execution_count": 7,
   "id": "85540e19",
   "metadata": {},
   "outputs": [
    {
     "name": "stdout",
     "output_type": "stream",
     "text": [
      "Thank you have a nice day!\n"
     ]
    }
   ],
   "source": [
    "exit()"
   ]
  },
  {
   "cell_type": "code",
   "execution_count": null,
   "id": "b960550e",
   "metadata": {},
   "outputs": [],
   "source": []
  },
  {
   "cell_type": "code",
   "execution_count": null,
   "id": "25d595f4",
   "metadata": {},
   "outputs": [],
   "source": []
  },
  {
   "cell_type": "code",
   "execution_count": null,
   "id": "86c50e1c",
   "metadata": {},
   "outputs": [],
   "source": []
  },
  {
   "cell_type": "code",
   "execution_count": null,
   "id": "be1bf1c9",
   "metadata": {},
   "outputs": [],
   "source": []
  }
 ],
 "metadata": {
  "kernelspec": {
   "display_name": "Python 3 (ipykernel)",
   "language": "python",
   "name": "python3"
  },
  "language_info": {
   "codemirror_mode": {
    "name": "ipython",
    "version": 3
   },
   "file_extension": ".py",
   "mimetype": "text/x-python",
   "name": "python",
   "nbconvert_exporter": "python",
   "pygments_lexer": "ipython3",
   "version": "3.9.13"
  }
 },
 "nbformat": 4,
 "nbformat_minor": 5
}
