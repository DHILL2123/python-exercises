{
 "cells": [
  {
   "cell_type": "code",
   "execution_count": 1,
   "id": "204b84a8",
   "metadata": {},
   "outputs": [],
   "source": [
    "with open('checkbook.rtf')as f:\n",
    "    data = f.read()\n",
    "    f.close()"
   ]
  },
  {
   "cell_type": "code",
   "execution_count": 2,
   "id": "fac6bdfd",
   "metadata": {},
   "outputs": [
    {
     "data": {
      "text/plain": [
       "'30000'"
      ]
     },
     "execution_count": 2,
     "metadata": {},
     "output_type": "execute_result"
    }
   ],
   "source": [
    "data"
   ]
  },
  {
   "cell_type": "code",
   "execution_count": 3,
   "id": "2d66242d",
   "metadata": {},
   "outputs": [],
   "source": [
    "currentbal = data\n",
    "\n",
    "def balance():\n",
    "    \n",
    "    print(str(currentbal))       "
   ]
  },
  {
   "cell_type": "code",
   "execution_count": 4,
   "id": "9c925ad8",
   "metadata": {},
   "outputs": [
    {
     "name": "stdout",
     "output_type": "stream",
     "text": [
      "30000\n"
     ]
    }
   ],
   "source": [
    "balance()"
   ]
  },
  {
   "cell_type": "code",
   "execution_count": 5,
   "id": "0113a4d4",
   "metadata": {},
   "outputs": [
    {
     "name": "stdout",
     "output_type": "stream",
     "text": [
      "~~~ Welcome to your terminal checkbook! ~~~\n",
      "\n",
      "\n",
      "What would you like to do?\n",
      "\n",
      "\n",
      "1) view current balance\n",
      "2) record a debit(withdraw)\n",
      "3) record a credit(deposit)\n",
      "4) exit\n",
      "\n",
      "\n",
      "Please make a selection: 1\n",
      "\n",
      "\n",
      "Your current balance is 30000\n",
      "\n",
      "\n",
      "~~~ Welcome to your terminal checkbook! ~~~\n",
      "\n",
      "\n",
      "What would you like to do?\n",
      "\n",
      "\n",
      "1) view current balance\n",
      "2) record a debit(withdraw)\n",
      "3) record a credit(deposit)\n",
      "4) exit\n",
      "\n",
      "\n",
      "Please make a selection: 4\n",
      "\n",
      "\n",
      "Thank you have a nice day!\n"
     ]
    }
   ],
   "source": [
    "user_input = 1,2,3,4\n",
    "\n",
    "while user_input == '1' or '2' or '3' or '4':\n",
    "    print(\"~~~ Welcome to your terminal checkbook! ~~~\")\n",
    "    print('\\n')\n",
    "    print('What would you like to do?')\n",
    "    print('\\n')\n",
    "    print('1) view current balance')\n",
    "    print('2) record a debit(withdraw)')\n",
    "    print('3) record a credit(deposit)')\n",
    "    print('4) exit')\n",
    "    print('\\n')\n",
    "    \n",
    "    user_input = input('Please make a selection: ')\n",
    "    print('\\n')\n",
    "    \n",
    "    if user_input == '1':\n",
    "        bal = str(currentbal)\n",
    "        print(f'Your current balance is {bal}')\n",
    "        print('\\n')\n",
    "    \n",
    "   \n",
    "        \n",
    "    elif user_input == '2':\n",
    "            debit_input = input('How much is the debit? ')\n",
    "            print('\\n')\n",
    "            currentbal = int(currentbal) - int(debit_input)\n",
    "            print(f'Your current balance is {currentbal}')\n",
    "            print('\\n')\n",
    "    \n",
    "    elif user_input == '3':\n",
    "            deposit_input = input('How much is the deposit? ')\n",
    "            print('\\n')\n",
    "            currentbal = int(currentbal) + int(deposit_input)\n",
    "            print(f'Your current balance is {currentbal}')\n",
    "            print('\\n')\n",
    "    \n",
    "    elif user_input == '4':\n",
    "        print('Thank you have a nice day!')\n",
    "\n",
    "        break\n",
    "    \n",
    "    else:\n",
    "        \n",
    "        print('Incorrect response, please try again ')\n",
    "        print('\\n')\n",
    "    "
   ]
  },
  {
   "cell_type": "code",
   "execution_count": 19,
   "id": "afaa2005",
   "metadata": {},
   "outputs": [],
   "source": [
    "# with open ==> file location, interaction\n",
    "with open('checkbook.rtf', 'w') as f:\n",
    "    f.write(str(currentbal))"
   ]
  },
  {
   "cell_type": "code",
   "execution_count": 20,
   "id": "2069a960",
   "metadata": {},
   "outputs": [],
   "source": [
    "with open('checkbook.rtf')as f:\n",
    "    data = f.read()\n",
    "    f.close()"
   ]
  },
  {
   "cell_type": "code",
   "execution_count": 21,
   "id": "a009ea68",
   "metadata": {},
   "outputs": [
    {
     "data": {
      "text/plain": [
       "'30000'"
      ]
     },
     "execution_count": 21,
     "metadata": {},
     "output_type": "execute_result"
    }
   ],
   "source": [
    "data"
   ]
  },
  {
   "cell_type": "code",
   "execution_count": 22,
   "id": "8aff5684",
   "metadata": {},
   "outputs": [],
   "source": [
    "cred = deposit_input\n",
    "def credit():\n",
    "    print(cred)"
   ]
  },
  {
   "cell_type": "code",
   "execution_count": 23,
   "id": "cdadbd6e",
   "metadata": {},
   "outputs": [
    {
     "name": "stdout",
     "output_type": "stream",
     "text": [
      "50000\n"
     ]
    }
   ],
   "source": [
    "credit()"
   ]
  },
  {
   "cell_type": "code",
   "execution_count": 24,
   "id": "15ff5eca",
   "metadata": {},
   "outputs": [],
   "source": [
    "deb = debit_input\n",
    "def debit():\n",
    "    print(str(deb))"
   ]
  },
  {
   "cell_type": "code",
   "execution_count": 25,
   "id": "9873283f",
   "metadata": {},
   "outputs": [
    {
     "name": "stdout",
     "output_type": "stream",
     "text": [
      "20000\n"
     ]
    }
   ],
   "source": [
    "debit()"
   ]
  },
  {
   "cell_type": "code",
   "execution_count": 26,
   "id": "1b595e65",
   "metadata": {},
   "outputs": [],
   "source": [
    "end = \"Thank you have a nice day!\"\n",
    "def exit():\n",
    "    print(end)"
   ]
  },
  {
   "cell_type": "code",
   "execution_count": 27,
   "id": "73b0ef07",
   "metadata": {},
   "outputs": [
    {
     "name": "stdout",
     "output_type": "stream",
     "text": [
      "Thank you have a nice day!\n"
     ]
    }
   ],
   "source": [
    "exit()"
   ]
  }
 ],
 "metadata": {
  "kernelspec": {
   "display_name": "Python 3 (ipykernel)",
   "language": "python",
   "name": "python3"
  },
  "language_info": {
   "codemirror_mode": {
    "name": "ipython",
    "version": 3
   },
   "file_extension": ".py",
   "mimetype": "text/x-python",
   "name": "python",
   "nbconvert_exporter": "python",
   "pygments_lexer": "ipython3",
   "version": "3.9.13"
  }
 },
 "nbformat": 4,
 "nbformat_minor": 5
}
