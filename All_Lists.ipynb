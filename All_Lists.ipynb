{
 "cells": [
  {
   "cell_type": "code",
   "execution_count": 1,
   "id": "22880f72",
   "metadata": {},
   "outputs": [],
   "source": [
    "#List are created with [] and can hold different data types\n",
    "my_list = [1,2,3]"
   ]
  },
  {
   "cell_type": "code",
   "execution_count": 2,
   "id": "c84b17d0",
   "metadata": {},
   "outputs": [],
   "source": [
    "my_list = ['STRING', 1, 20.1]"
   ]
  },
  {
   "cell_type": "code",
   "execution_count": 3,
   "id": "8a8b5bbe",
   "metadata": {},
   "outputs": [
    {
     "data": {
      "text/plain": [
       "3"
      ]
     },
     "execution_count": 3,
     "metadata": {},
     "output_type": "execute_result"
    }
   ],
   "source": [
    "#len() insert list variable to see the lenght of your list\n",
    "len(my_list)"
   ]
  },
  {
   "cell_type": "code",
   "execution_count": 4,
   "id": "7d4145bc",
   "metadata": {},
   "outputs": [],
   "source": [
    "mylist = ['one', 'two','three']"
   ]
  },
  {
   "cell_type": "code",
   "execution_count": 5,
   "id": "11aa08c0",
   "metadata": {},
   "outputs": [
    {
     "data": {
      "text/plain": [
       "'one'"
      ]
     },
     "execution_count": 5,
     "metadata": {},
     "output_type": "execute_result"
    }
   ],
   "source": [
    "#list can use indexing and slicing just like a string \n",
    "mylist[0]"
   ]
  },
  {
   "cell_type": "code",
   "execution_count": 6,
   "id": "ad8475a0",
   "metadata": {},
   "outputs": [
    {
     "data": {
      "text/plain": [
       "'two'"
      ]
     },
     "execution_count": 6,
     "metadata": {},
     "output_type": "execute_result"
    }
   ],
   "source": [
    "mylist[1]"
   ]
  },
  {
   "cell_type": "code",
   "execution_count": 7,
   "id": "69be2025",
   "metadata": {},
   "outputs": [
    {
     "data": {
      "text/plain": [
       "'three'"
      ]
     },
     "execution_count": 7,
     "metadata": {},
     "output_type": "execute_result"
    }
   ],
   "source": [
    "mylist[2]"
   ]
  },
  {
   "cell_type": "code",
   "execution_count": 8,
   "id": "7999740c",
   "metadata": {},
   "outputs": [
    {
     "data": {
      "text/plain": [
       "['two', 'three']"
      ]
     },
     "execution_count": 8,
     "metadata": {},
     "output_type": "execute_result"
    }
   ],
   "source": [
    "#slicing\n",
    "mylist[1:]"
   ]
  },
  {
   "cell_type": "code",
   "execution_count": 11,
   "id": "043be3e8",
   "metadata": {},
   "outputs": [
    {
     "data": {
      "text/plain": [
       "['two', 'three']"
      ]
     },
     "execution_count": 11,
     "metadata": {},
     "output_type": "execute_result"
    }
   ],
   "source": [
    "mylist[1:]"
   ]
  },
  {
   "cell_type": "code",
   "execution_count": 20,
   "id": "c00d3194",
   "metadata": {},
   "outputs": [
    {
     "data": {
      "text/plain": [
       "['three']"
      ]
     },
     "execution_count": 20,
     "metadata": {},
     "output_type": "execute_result"
    }
   ],
   "source": [
    "mylist[-1:]"
   ]
  },
  {
   "cell_type": "code",
   "execution_count": 24,
   "id": "863189f0",
   "metadata": {},
   "outputs": [],
   "source": [
    "another_list = ['ONE', 'TWO']"
   ]
  },
  {
   "cell_type": "code",
   "execution_count": 25,
   "id": "ab680cb5",
   "metadata": {},
   "outputs": [
    {
     "data": {
      "text/plain": [
       "['ONE', 'TWO', 'one', 'two', 'three']"
      ]
     },
     "execution_count": 25,
     "metadata": {},
     "output_type": "execute_result"
    }
   ],
   "source": [
    "#Concats the two list and gives the output\n",
    "#output isnt saved as a new list\n",
    "another_list + mylist"
   ]
  },
  {
   "cell_type": "code",
   "execution_count": 43,
   "id": "f6734704",
   "metadata": {},
   "outputs": [],
   "source": [
    "#creates new list of the concated two list\n",
    "#output is now saved as variable newlist\n",
    "newlist = another_list + mylist"
   ]
  },
  {
   "cell_type": "code",
   "execution_count": 27,
   "id": "457f97dc",
   "metadata": {},
   "outputs": [
    {
     "data": {
      "text/plain": [
       "['ONE', 'TWO', 'one', 'two', 'three']"
      ]
     },
     "execution_count": 27,
     "metadata": {},
     "output_type": "execute_result"
    }
   ],
   "source": [
    "newlist"
   ]
  },
  {
   "cell_type": "code",
   "execution_count": 28,
   "id": "1d636cfe",
   "metadata": {},
   "outputs": [],
   "source": [
    "#list items can be changed inside the list unlike strings\n",
    "#'ONE' above in index[0] is being changed below\n",
    "newlist[0] = 'ONE ALL CAP'"
   ]
  },
  {
   "cell_type": "code",
   "execution_count": 29,
   "id": "2257af75",
   "metadata": {},
   "outputs": [
    {
     "data": {
      "text/plain": [
       "['ONE ALL CAP', 'TWO', 'one', 'two', 'three']"
      ]
     },
     "execution_count": 29,
     "metadata": {},
     "output_type": "execute_result"
    }
   ],
   "source": [
    "newlist"
   ]
  },
  {
   "cell_type": "code",
   "execution_count": 31,
   "id": "6b6c36d5",
   "metadata": {},
   "outputs": [],
   "source": [
    "#newlist.TAB button open method list\n",
    "#The .append() method adds the new data type to the end of the list\n",
    "newlist.append('SIX')"
   ]
  },
  {
   "cell_type": "code",
   "execution_count": 32,
   "id": "ca28121c",
   "metadata": {},
   "outputs": [
    {
     "data": {
      "text/plain": [
       "['ONE ALL CAP', 'TWO', 'one', 'two', 'three', 'SIX']"
      ]
     },
     "execution_count": 32,
     "metadata": {},
     "output_type": "execute_result"
    }
   ],
   "source": [
    "newlist"
   ]
  },
  {
   "cell_type": "code",
   "execution_count": 41,
   "id": "a27fd919",
   "metadata": {},
   "outputs": [
    {
     "data": {
      "text/plain": [
       "'TWO'"
      ]
     },
     "execution_count": 41,
     "metadata": {},
     "output_type": "execute_result"
    }
   ],
   "source": [
    "# .pop() method removes the item at the end of the list\n",
    "#can pop out any list item by passing in the index in the method newlist.pop(1)\n",
    "newlist.pop()"
   ]
  },
  {
   "cell_type": "code",
   "execution_count": 44,
   "id": "7c5ebcc3",
   "metadata": {},
   "outputs": [
    {
     "data": {
      "text/plain": [
       "['ONE', 'TWO', 'one', 'two', 'three']"
      ]
     },
     "execution_count": 44,
     "metadata": {},
     "output_type": "execute_result"
    }
   ],
   "source": [
    "newlist"
   ]
  },
  {
   "cell_type": "code",
   "execution_count": 35,
   "id": "549847a9",
   "metadata": {},
   "outputs": [],
   "source": [
    "popped_item = newlist.pop()# adds the popped item form the list to the popped_item variable"
   ]
  },
  {
   "cell_type": "code",
   "execution_count": 37,
   "id": "02dd7c3f",
   "metadata": {},
   "outputs": [
    {
     "data": {
      "text/plain": [
       "'three'"
      ]
     },
     "execution_count": 37,
     "metadata": {},
     "output_type": "execute_result"
    }
   ],
   "source": [
    "popped_item"
   ]
  },
  {
   "cell_type": "code",
   "execution_count": 53,
   "id": "8c53c667",
   "metadata": {},
   "outputs": [],
   "source": [
    "sort_letters = ['a', 'b', 'd', 'c']\n",
    "sort_numbers = [1,5,3,2,4]"
   ]
  },
  {
   "cell_type": "code",
   "execution_count": 48,
   "id": "c6483aca",
   "metadata": {},
   "outputs": [],
   "source": [
    "#sorts the list alphabetically returns nothing is a nontype.\n",
    "sort_numbers.sort()"
   ]
  },
  {
   "cell_type": "code",
   "execution_count": 60,
   "id": "44f73216",
   "metadata": {},
   "outputs": [],
   "source": [
    "#run sort_letters after sorting and see they are output in alphabet order\n",
    "sort_letters.sort()\n",
    "sort_letters.reverse()"
   ]
  },
  {
   "cell_type": "code",
   "execution_count": 61,
   "id": "83810c0a",
   "metadata": {},
   "outputs": [
    {
     "data": {
      "text/plain": [
       "['d', 'c', 'b', 'a']"
      ]
     },
     "execution_count": 61,
     "metadata": {},
     "output_type": "execute_result"
    }
   ],
   "source": [
    "sort_letters"
   ]
  },
  {
   "cell_type": "code",
   "execution_count": 54,
   "id": "b108b44d",
   "metadata": {},
   "outputs": [],
   "source": [
    "sort_numbers.sort()\n"
   ]
  },
  {
   "cell_type": "code",
   "execution_count": 55,
   "id": "791cb931",
   "metadata": {},
   "outputs": [
    {
     "data": {
      "text/plain": [
       "[1, 2, 3, 4, 5]"
      ]
     },
     "execution_count": 55,
     "metadata": {},
     "output_type": "execute_result"
    }
   ],
   "source": [
    "sort_numbers"
   ]
  },
  {
   "cell_type": "code",
   "execution_count": 56,
   "id": "c8c21338",
   "metadata": {},
   "outputs": [],
   "source": [
    "# .reverse() sorts the list in revers order\n",
    "sort_numbers.reverse()"
   ]
  },
  {
   "cell_type": "code",
   "execution_count": 57,
   "id": "2d439d07",
   "metadata": {},
   "outputs": [
    {
     "data": {
      "text/plain": [
       "[5, 4, 3, 2, 1]"
      ]
     },
     "execution_count": 57,
     "metadata": {},
     "output_type": "execute_result"
    }
   ],
   "source": [
    "sort_numbers"
   ]
  },
  {
   "cell_type": "code",
   "execution_count": 66,
   "id": "ad3cc275",
   "metadata": {},
   "outputs": [],
   "source": [
    "# 1,1, represent index 0 and 1 and nested list[] represents index 2\n",
    "nestedlist = [1,1,[1,2]]"
   ]
  },
  {
   "cell_type": "code",
   "execution_count": 79,
   "id": "931c95cf",
   "metadata": {},
   "outputs": [
    {
     "data": {
      "text/plain": [
       "2"
      ]
     },
     "execution_count": 79,
     "metadata": {},
     "output_type": "execute_result"
    }
   ],
   "source": [
    "#index two is the nested list and inside of it the number 2 resides at index one\n",
    "nestedlist[2][1]"
   ]
  },
  {
   "cell_type": "code",
   "execution_count": null,
   "id": "7ed9c27a",
   "metadata": {},
   "outputs": [],
   "source": []
  }
 ],
 "metadata": {
  "kernelspec": {
   "display_name": "Python 3 (ipykernel)",
   "language": "python",
   "name": "python3"
  },
  "language_info": {
   "codemirror_mode": {
    "name": "ipython",
    "version": 3
   },
   "file_extension": ".py",
   "mimetype": "text/x-python",
   "name": "python",
   "nbconvert_exporter": "python",
   "pygments_lexer": "ipython3",
   "version": "3.9.13"
  }
 },
 "nbformat": 4,
 "nbformat_minor": 5
}
