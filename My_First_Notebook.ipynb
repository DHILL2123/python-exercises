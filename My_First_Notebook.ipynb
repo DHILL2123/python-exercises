{
 "cells": [
  {
   "cell_type": "code",
   "execution_count": 1,
   "id": "12cee6bb",
   "metadata": {},
   "outputs": [
    {
     "data": {
      "text/plain": [
       "7"
      ]
     },
     "execution_count": 1,
     "metadata": {},
     "output_type": "execute_result"
    }
   ],
   "source": [
    "3 + 4 "
   ]
  },
  {
   "cell_type": "markdown",
   "id": "75b88fee",
   "metadata": {},
   "source": [
    "# This is for Markdown\n",
    "\n",
    "##### Heading\n",
    "\n",
    "\n",
    "- List item 1\n",
    "- List item 2"
   ]
  },
  {
   "cell_type": "markdown",
   "id": "cd4cf6b7",
   "metadata": {},
   "source": [
    "New cell after current call\n",
    "ESC + B"
   ]
  },
  {
   "cell_type": "markdown",
   "id": "1eae2f38",
   "metadata": {},
   "source": [
    "New cell"
   ]
  }
 ],
 "metadata": {
  "kernelspec": {
   "display_name": "Python 3 (ipykernel)",
   "language": "python",
   "name": "python3"
  },
  "language_info": {
   "codemirror_mode": {
    "name": "ipython",
    "version": 3
   },
   "file_extension": ".py",
   "mimetype": "text/x-python",
   "name": "python",
   "nbconvert_exporter": "python",
   "pygments_lexer": "ipython3",
   "version": "3.9.13"
  }
 },
 "nbformat": 4,
 "nbformat_minor": 5
}
