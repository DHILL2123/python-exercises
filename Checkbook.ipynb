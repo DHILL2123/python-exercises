{
 "cells": [
  {
   "cell_type": "code",
   "execution_count": 1,
   "id": "59a3118d",
   "metadata": {},
   "outputs": [],
   "source": [
    "currentbal = 1\n",
    "user_input = ('1','2','3','4')"
   ]
  },
  {
   "cell_type": "code",
   "execution_count": null,
   "id": "a54be774",
   "metadata": {},
   "outputs": [
    {
     "name": "stdout",
     "output_type": "stream",
     "text": [
      "~~~ Welcome to your terminal checkbook! ~~~\n",
      "\n",
      "\n",
      "What would you like to do?\n",
      "\n",
      "\n",
      "1) view current balance\n",
      "2) record a debit(withdraw)\n",
      "3) record a credit(deposit)\n",
      "4) exit\n",
      "\n",
      "\n"
     ]
    }
   ],
   "source": [
    "import checkbook.rft\n",
    "import os\n",
    "\n",
    "\n",
    "\n",
    "while user_input == '1' or '2' or '3' or '4':\n",
    "    print(\"~~~ Welcome to your terminal checkbook! ~~~\")\n",
    "    print('\\n')\n",
    "    print('What would you like to do?')\n",
    "    print('\\n')\n",
    "    print('1) view current balance')\n",
    "    print('2) record a debit(withdraw)')\n",
    "    print('3) record a credit(deposit)')\n",
    "    print('4) exit')\n",
    "    print('\\n')\n",
    "    \n",
    "    user_input = input('Please make a selection: ')\n",
    "    print('\\n')\n",
    "    \n",
    "    if user_input == '1':\n",
    "        currentbal = str(balance)\n",
    "        print(f'Your current balance is {currentbal}')\n",
    "        print('\\n')\n",
    "    \n",
    "   \n",
    "        \n",
    "    elif user_input == '2':\n",
    "            debit_input = input('How much is the debit? ')\n",
    "            print('\\n')\n",
    "            currentbal = currentbal - int(debit_input)\n",
    "            print(f'Your current balance is {currentbal}')\n",
    "            print('\\n')\n",
    "    \n",
    "    elif user_input == '3':\n",
    "            deposit_input = input('How much is the deposit? ')\n",
    "            print('\\n')\n",
    "            currentbal = currentbal + int(deposit_input)\n",
    "            print(f'Your current balance is {currentbal}')\n",
    "            print('\\n')\n",
    "    \n",
    "    elif user_input == '4':\n",
    "        print('Thank you have a nice day!')\n",
    "        user_input == '5'\n",
    "        break\n",
    "    \n",
    "    else:\n",
    "        \n",
    "        print('Incorrect response, please try again ')\n",
    "        print('\\n')\n",
    "    \n",
    "        \n",
    "      \n",
    "      \n",
    "            \n",
    "            \n",
    "\n",
    "        \n",
    "    \n",
    "        \n",
    "        \n",
    "        \n",
    "\n",
    "\n",
    "\n",
    "\n",
    "\n",
    "        \n",
    "   \n",
    "\n",
    "        \n",
    "    \n",
    "\n",
    "\n",
    "            \n",
    "   \n",
    "        \n",
    "        \n",
    "    "
   ]
  },
  {
   "cell_type": "code",
   "execution_count": null,
   "id": "1e3f889b",
   "metadata": {},
   "outputs": [],
   "source": [
    "f = open('checkbook.csv', 'r')"
   ]
  },
  {
   "cell_type": "code",
   "execution_count": null,
   "id": "d51ee3b2",
   "metadata": {},
   "outputs": [],
   "source": [
    "contents = f.read()"
   ]
  },
  {
   "cell_type": "code",
   "execution_count": null,
   "id": "4009c405",
   "metadata": {},
   "outputs": [],
   "source": [
    "contents.split('\\n')"
   ]
  },
  {
   "cell_type": "code",
   "execution_count": null,
   "id": "3f81f229",
   "metadata": {},
   "outputs": [],
   "source": [
    "\n",
    "# with open ==> file location, interaction\n",
    "with open('checkbook.rtf', 'w') as f:\n",
    "    f.write(str(currentbal))"
   ]
  },
  {
   "cell_type": "code",
   "execution_count": null,
   "id": "349629f4",
   "metadata": {},
   "outputs": [],
   "source": [
    "with open('checkbook.rtf')as f:\n",
    "    data = f.read()\n",
    "    f.close()"
   ]
  },
  {
   "cell_type": "code",
   "execution_count": null,
   "id": "74add3db",
   "metadata": {},
   "outputs": [],
   "source": [
    "data"
   ]
  },
  {
   "cell_type": "code",
   "execution_count": null,
   "id": "9473a649",
   "metadata": {},
   "outputs": [],
   "source": [
    "import os"
   ]
  },
  {
   "cell_type": "code",
   "execution_count": null,
   "id": "b6ecb651",
   "metadata": {},
   "outputs": [],
   "source": [
    "if os.path.exists(\n",
    "    'checkbook.csv'):\n",
    "    print('yay it exists!')\n",
    "    with open('checkbook.csv', 'r') as f:\n",
    "        lines = f.readlines()\n",
    "else:\n",
    "    print('does not exist')\n",
    "    with open('checkbook', 'w') as f:\n",
    "        f.write('brand new file!')"
   ]
  },
  {
   "cell_type": "code",
   "execution_count": null,
   "id": "6ac0f1a8",
   "metadata": {},
   "outputs": [],
   "source": [
    "with open('checkbook.csv', 'w') as f:\n",
    "    f.writelines(['{currentbal}\\n'])"
   ]
  },
  {
   "cell_type": "code",
   "execution_count": null,
   "id": "2a4083f4",
   "metadata": {},
   "outputs": [],
   "source": [
    "with open('checkbook.csv','r') as f:\n",
    "    check_book_csv = f.readlines()"
   ]
  },
  {
   "cell_type": "code",
   "execution_count": null,
   "id": "44b93ea2",
   "metadata": {},
   "outputs": [],
   "source": [
    "check_book_csv"
   ]
  },
  {
   "cell_type": "code",
   "execution_count": null,
   "id": "334cd8a2",
   "metadata": {},
   "outputs": [],
   "source": [
    "import csv"
   ]
  },
  {
   "cell_type": "code",
   "execution_count": null,
   "id": "7bdf2c21",
   "metadata": {},
   "outputs": [],
   "source": []
  },
  {
   "cell_type": "code",
   "execution_count": null,
   "id": "1560cb34",
   "metadata": {},
   "outputs": [],
   "source": []
  },
  {
   "cell_type": "code",
   "execution_count": null,
   "id": "03aa5b54",
   "metadata": {},
   "outputs": [],
   "source": []
  },
  {
   "cell_type": "code",
   "execution_count": null,
   "id": "02a0c198",
   "metadata": {},
   "outputs": [],
   "source": []
  },
  {
   "cell_type": "code",
   "execution_count": null,
   "id": "07fdb17b",
   "metadata": {},
   "outputs": [],
   "source": [
    "bal = str(currentbal)\n",
    "def balance(bal):\n",
    "    if user_input == '1':\n",
    "        print(f'Your current balance is (bal)')\n",
    "        print('\\n')\n",
    "    \n",
    "    return str(currentbal)\n",
    "\n"
   ]
  },
  {
   "cell_type": "code",
   "execution_count": null,
   "id": "d476f26a",
   "metadata": {},
   "outputs": [],
   "source": [
    "balance(bal)"
   ]
  },
  {
   "cell_type": "code",
   "execution_count": null,
   "id": "92425bb8",
   "metadata": {},
   "outputs": [],
   "source": []
  },
  {
   "cell_type": "code",
   "execution_count": null,
   "id": "c4d83ed8",
   "metadata": {},
   "outputs": [],
   "source": []
  },
  {
   "cell_type": "code",
   "execution_count": null,
   "id": "6eed6a10",
   "metadata": {},
   "outputs": [],
   "source": []
  },
  {
   "cell_type": "code",
   "execution_count": null,
   "id": "80bedff1",
   "metadata": {},
   "outputs": [],
   "source": [
    "deb = debit_input\n",
    "def debit(deb):\n",
    "    if user_input == '2':\n",
    "        print(f'You withdrew {deb}')\n",
    "        print('\\n')\n",
    "        print(f'Your current balance is {currentbal}')\n",
    "        print('\\n')\n",
    "    return deb\n",
    "        "
   ]
  },
  {
   "cell_type": "code",
   "execution_count": null,
   "id": "888d0321",
   "metadata": {},
   "outputs": [],
   "source": [
    "debit(deb)"
   ]
  },
  {
   "cell_type": "code",
   "execution_count": null,
   "id": "e8d913c3",
   "metadata": {},
   "outputs": [],
   "source": [
    "cred = deposit_input\n",
    "def credit(cred):\n",
    "    if user_input == '3':\n",
    "        print(f'You deposited {cred}')\n",
    "        print('\\n')\n",
    "        print(f'Your current balance is {currentbal}')\n",
    "    return cred\n",
    "        \n"
   ]
  },
  {
   "cell_type": "code",
   "execution_count": null,
   "id": "541b8e3c",
   "metadata": {},
   "outputs": [],
   "source": [
    "credit(cred)"
   ]
  },
  {
   "cell_type": "code",
   "execution_count": null,
   "id": "56f7e078",
   "metadata": {},
   "outputs": [],
   "source": [
    "def exit():\n",
    "    if user_input == '4':\n",
    "        print('Thank you have a nice day!')\n",
    "    \n"
   ]
  },
  {
   "cell_type": "code",
   "execution_count": null,
   "id": "85540e19",
   "metadata": {},
   "outputs": [],
   "source": [
    "exit()"
   ]
  },
  {
   "cell_type": "code",
   "execution_count": null,
   "id": "b960550e",
   "metadata": {},
   "outputs": [],
   "source": []
  },
  {
   "cell_type": "code",
   "execution_count": null,
   "id": "25d595f4",
   "metadata": {},
   "outputs": [],
   "source": []
  },
  {
   "cell_type": "code",
   "execution_count": null,
   "id": "86c50e1c",
   "metadata": {},
   "outputs": [],
   "source": []
  },
  {
   "cell_type": "code",
   "execution_count": null,
   "id": "be1bf1c9",
   "metadata": {},
   "outputs": [],
   "source": []
  }
 ],
 "metadata": {
  "kernelspec": {
   "display_name": "Python 3 (ipykernel)",
   "language": "python",
   "name": "python3"
  },
  "language_info": {
   "codemirror_mode": {
    "name": "ipython",
    "version": 3
   },
   "file_extension": ".py",
   "mimetype": "text/x-python",
   "name": "python",
   "nbconvert_exporter": "python",
   "pygments_lexer": "ipython3",
   "version": "3.9.13"
  }
 },
 "nbformat": 4,
 "nbformat_minor": 5
}
