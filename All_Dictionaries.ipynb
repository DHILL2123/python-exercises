{
 "cells": [
  {
   "cell_type": "code",
   "execution_count": 1,
   "id": "3b6bcee9",
   "metadata": {},
   "outputs": [],
   "source": [
    "#created the dictionary below with key pairs\n",
    "my_dict = {'key1':'value1', 'key2':'value2'}"
   ]
  },
  {
   "cell_type": "code",
   "execution_count": 2,
   "id": "8cf55db1",
   "metadata": {},
   "outputs": [
    {
     "data": {
      "text/plain": [
       "{'key1': 'value1', 'key2': 'value2'}"
      ]
     },
     "execution_count": 2,
     "metadata": {},
     "output_type": "execute_result"
    }
   ],
   "source": [
    "#called the dictionary and get the output of the entire dictionary\n",
    "my_dict"
   ]
  },
  {
   "cell_type": "code",
   "execution_count": 3,
   "id": "c74ddefd",
   "metadata": {},
   "outputs": [
    {
     "data": {
      "text/plain": [
       "'value1'"
      ]
     },
     "execution_count": 3,
     "metadata": {},
     "output_type": "execute_result"
    }
   ],
   "source": [
    "#passed in a key from the dictionary to get the value output\n",
    "my_dict['key1']"
   ]
  },
  {
   "cell_type": "code",
   "execution_count": 4,
   "id": "5b09251a",
   "metadata": {},
   "outputs": [],
   "source": [
    "prices_lookup = {'apple':2.99, 'oranges':1.99, 'milk':5.80}"
   ]
  },
  {
   "cell_type": "code",
   "execution_count": 9,
   "id": "8bf07235",
   "metadata": {},
   "outputs": [
    {
     "data": {
      "text/plain": [
       "5.8"
      ]
     },
     "execution_count": 9,
     "metadata": {},
     "output_type": "execute_result"
    }
   ],
   "source": [
    "prices_lookup['milk']"
   ]
  },
  {
   "cell_type": "code",
   "execution_count": 10,
   "id": "e1b8c4b3",
   "metadata": {},
   "outputs": [],
   "source": [
    "#dictionaries can hold lists, other dictionaries, and other data types\n",
    "#below shows the created dictionary and the calls of each object inside of the dictionary\n",
    "d ={'k1':123, 'k2':[0,1,2], 'k3':{'insidekey':100}}"
   ]
  },
  {
   "cell_type": "code",
   "execution_count": 11,
   "id": "5fcfe181",
   "metadata": {},
   "outputs": [
    {
     "data": {
      "text/plain": [
       "123"
      ]
     },
     "execution_count": 11,
     "metadata": {},
     "output_type": "execute_result"
    }
   ],
   "source": [
    "d['k1']"
   ]
  },
  {
   "cell_type": "code",
   "execution_count": 12,
   "id": "d6ffe0bc",
   "metadata": {},
   "outputs": [
    {
     "data": {
      "text/plain": [
       "[0, 1, 2]"
      ]
     },
     "execution_count": 12,
     "metadata": {},
     "output_type": "execute_result"
    }
   ],
   "source": [
    "d['k2']"
   ]
  },
  {
   "cell_type": "code",
   "execution_count": 18,
   "id": "aeea2e6b",
   "metadata": {},
   "outputs": [
    {
     "data": {
      "text/plain": [
       "2"
      ]
     },
     "execution_count": 18,
     "metadata": {},
     "output_type": "execute_result"
    }
   ],
   "source": [
    "#key 'k2' holds a list inside the dictionary to access the list you call 'k2' then the list index [value]\n",
    "d['k2'][2]"
   ]
  },
  {
   "cell_type": "code",
   "execution_count": 13,
   "id": "08741e82",
   "metadata": {},
   "outputs": [
    {
     "data": {
      "text/plain": [
       "{'insidekey': 100}"
      ]
     },
     "execution_count": 13,
     "metadata": {},
     "output_type": "execute_result"
    }
   ],
   "source": [
    "# key 'k3' has a value of a dictionary you can call it by using another set of brackets\n",
    "d['k3']"
   ]
  },
  {
   "cell_type": "code",
   "execution_count": 14,
   "id": "2eb226ae",
   "metadata": {},
   "outputs": [
    {
     "data": {
      "text/plain": [
       "100"
      ]
     },
     "execution_count": 14,
     "metadata": {},
     "output_type": "execute_result"
    }
   ],
   "source": [
    "#called the 'k3' key which holds a dictionary value then used the key('insidekey') to call the value (100) \n",
    "d['k3']['insidekey']"
   ]
  },
  {
   "cell_type": "code",
   "execution_count": null,
   "id": "9e378f8c",
   "metadata": {},
   "outputs": [],
   "source": [
    "#full example of accesing a list inside a dictionary and altering a value in the list\n"
   ]
  },
  {
   "cell_type": "code",
   "execution_count": 20,
   "id": "3c422c4c",
   "metadata": {},
   "outputs": [],
   "source": [
    "dict_ex={'key1':['a','b','c']}"
   ]
  },
  {
   "cell_type": "code",
   "execution_count": 21,
   "id": "a77e1da9",
   "metadata": {},
   "outputs": [
    {
     "data": {
      "text/plain": [
       "{'key1': ['a', 'b', 'c']}"
      ]
     },
     "execution_count": 21,
     "metadata": {},
     "output_type": "execute_result"
    }
   ],
   "source": [
    "dict_ex"
   ]
  },
  {
   "cell_type": "code",
   "execution_count": 23,
   "id": "edb4c37c",
   "metadata": {},
   "outputs": [
    {
     "data": {
      "text/plain": [
       "['a', 'b', 'c']"
      ]
     },
     "execution_count": 23,
     "metadata": {},
     "output_type": "execute_result"
    }
   ],
   "source": [
    "dict_ex['key1']"
   ]
  },
  {
   "cell_type": "code",
   "execution_count": 30,
   "id": "563787ee",
   "metadata": {},
   "outputs": [
    {
     "data": {
      "text/plain": [
       "'C'"
      ]
     },
     "execution_count": 30,
     "metadata": {},
     "output_type": "execute_result"
    }
   ],
   "source": [
    "#you can alter the list index here with a method once you access it through the key and index\n",
    "#or you can do as I did below and create a variable for the index location and make the update there.\n",
    "#I used the upper() method to capitalize 'C'\n",
    "dict_ex['key1'][2].upper()"
   ]
  },
  {
   "cell_type": "code",
   "execution_count": 25,
   "id": "a6fe39ae",
   "metadata": {},
   "outputs": [],
   "source": [
    "#Created the varible for the index location of 'c'\n",
    "letter = dict_ex['key1'][2]"
   ]
  },
  {
   "cell_type": "code",
   "execution_count": 26,
   "id": "76afc856",
   "metadata": {},
   "outputs": [
    {
     "data": {
      "text/plain": [
       "'c'"
      ]
     },
     "execution_count": 26,
     "metadata": {},
     "output_type": "execute_result"
    }
   ],
   "source": [
    "letter"
   ]
  },
  {
   "cell_type": "code",
   "execution_count": 27,
   "id": "b88fa247",
   "metadata": {},
   "outputs": [
    {
     "data": {
      "text/plain": [
       "'C'"
      ]
     },
     "execution_count": 27,
     "metadata": {},
     "output_type": "execute_result"
    }
   ],
   "source": [
    "#used upper() method to capitalize the letter c at index 2 of the list in the dictionary.\n",
    "letter.upper()"
   ]
  },
  {
   "cell_type": "code",
   "execution_count": 28,
   "id": "48462447",
   "metadata": {},
   "outputs": [
    {
     "data": {
      "text/plain": [
       "{'key1': ['a', 'b', 'c']}"
      ]
     },
     "execution_count": 28,
     "metadata": {},
     "output_type": "execute_result"
    }
   ],
   "source": [
    "dict_ex"
   ]
  },
  {
   "cell_type": "code",
   "execution_count": 37,
   "id": "38d27463",
   "metadata": {},
   "outputs": [],
   "source": [
    "#Add key pairs to your dictionary\n",
    "#created the dictionary\n",
    "add_to_dict = {'k1':100, 'k2':200}"
   ]
  },
  {
   "cell_type": "code",
   "execution_count": 32,
   "id": "e4b99e4b",
   "metadata": {},
   "outputs": [
    {
     "data": {
      "text/plain": [
       "{'k1': 100, 'k2': 200}"
      ]
     },
     "execution_count": 32,
     "metadata": {},
     "output_type": "execute_result"
    }
   ],
   "source": [
    "#verify creation output\n",
    "add_to_dict"
   ]
  },
  {
   "cell_type": "code",
   "execution_count": 41,
   "id": "3fe47abe",
   "metadata": {},
   "outputs": [],
   "source": [
    "#added 'k3' key and value dictionaryname[key] = value \n",
    "add_to_dict['k3'] = 300"
   ]
  },
  {
   "cell_type": "code",
   "execution_count": 42,
   "id": "7c637f00",
   "metadata": {},
   "outputs": [
    {
     "data": {
      "text/plain": [
       "{'k1': 100, 'k2': 200, 'k3': 300}"
      ]
     },
     "execution_count": 42,
     "metadata": {},
     "output_type": "execute_result"
    }
   ],
   "source": [
    "#verify key was added\n",
    "add_to_dict"
   ]
  },
  {
   "cell_type": "code",
   "execution_count": 45,
   "id": "3683f670",
   "metadata": {},
   "outputs": [],
   "source": [
    "#update/delete a current value from dictionary\n",
    "updatedict={'k1': 123, 'k2':'apple'}"
   ]
  },
  {
   "cell_type": "code",
   "execution_count": 46,
   "id": "9399c098",
   "metadata": {},
   "outputs": [
    {
     "data": {
      "text/plain": [
       "{'k1': 123, 'k2': 'apple'}"
      ]
     },
     "execution_count": 46,
     "metadata": {},
     "output_type": "execute_result"
    }
   ],
   "source": [
    "#verify created dictionary \n",
    "updatedict"
   ]
  },
  {
   "cell_type": "code",
   "execution_count": 47,
   "id": "62c405d7",
   "metadata": {},
   "outputs": [],
   "source": [
    "#updated 'k1' value in the dictionary to 'New Update'\n",
    "updatedict['k1']='New Update'"
   ]
  },
  {
   "cell_type": "code",
   "execution_count": 48,
   "id": "4ebf240d",
   "metadata": {},
   "outputs": [
    {
     "data": {
      "text/plain": [
       "{'k1': 'New Update', 'k2': 'apple'}"
      ]
     },
     "execution_count": 48,
     "metadata": {},
     "output_type": "execute_result"
    }
   ],
   "source": [
    "#verify updated change\n",
    "updatedict"
   ]
  },
  {
   "cell_type": "code",
   "execution_count": 49,
   "id": "8f97c1d3",
   "metadata": {},
   "outputs": [
    {
     "data": {
      "text/plain": [
       "dict_keys(['k1', 'k2'])"
      ]
     },
     "execution_count": 49,
     "metadata": {},
     "output_type": "execute_result"
    }
   ],
   "source": [
    "#to retrieve all the keys of a dictionary\n",
    "#dictionaryname.keys()\n",
    "\n",
    "updatedict.keys()"
   ]
  },
  {
   "cell_type": "code",
   "execution_count": 51,
   "id": "0d4d7371",
   "metadata": {},
   "outputs": [
    {
     "data": {
      "text/plain": [
       "dict_values(['New Update', 'apple'])"
      ]
     },
     "execution_count": 51,
     "metadata": {},
     "output_type": "execute_result"
    }
   ],
   "source": [
    "#to retrieve all the values of the dictionary\n",
    "#dictionaryname.values()\n",
    "updatedict.values()"
   ]
  },
  {
   "cell_type": "code",
   "execution_count": 54,
   "id": "7b543a3e",
   "metadata": {},
   "outputs": [
    {
     "data": {
      "text/plain": [
       "dict_items([('k1', 'New Update'), ('k2', 'apple')])"
      ]
     },
     "execution_count": 54,
     "metadata": {},
     "output_type": "execute_result"
    }
   ],
   "source": [
    "#retrieve dictionary keys and values together \n",
    "#dictionaryname.items()\n",
    "\n",
    "updatedict.items()#pulls the value of the entered key in mylist\n"
   ]
  },
  {
   "cell_type": "code",
   "execution_count": null,
   "id": "347539b7",
   "metadata": {},
   "outputs": [],
   "source": [
    "import json\n",
    "\n",
    "json.load(open('profiles.json'))"
   ]
  },
  {
   "cell_type": "code",
   "execution_count": null,
   "id": "69f5c000",
   "metadata": {},
   "outputs": [],
   "source": [
    "mylist = json.load(open('profiles.json'))"
   ]
  },
  {
   "cell_type": "code",
   "execution_count": null,
   "id": "35bc90ea",
   "metadata": {},
   "outputs": [],
   "source": [
    "#pulls the value of the entered key in mylist\n",
    "keyvalue = [key['isActive'] for key in mylist]"
   ]
  }
 ],
 "metadata": {
  "kernelspec": {
   "display_name": "Python 3 (ipykernel)",
   "language": "python",
   "name": "python3"
  },
  "language_info": {
   "codemirror_mode": {
    "name": "ipython",
    "version": 3
   },
   "file_extension": ".py",
   "mimetype": "text/x-python",
   "name": "python",
   "nbconvert_exporter": "python",
   "pygments_lexer": "ipython3",
   "version": "3.9.13"
  }
 },
 "nbformat": 4,
 "nbformat_minor": 5
}
