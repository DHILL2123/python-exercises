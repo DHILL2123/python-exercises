{
 "cells": [
  {
   "cell_type": "code",
   "execution_count": 3,
   "id": "54a8a0a6",
   "metadata": {},
   "outputs": [],
   "source": [
    "#structure:\n",
    "# def <the name of function>(<any parameters>)\n",
    "def my_oneil_function():\n",
    "    '''\n",
    "    This is where a doc-string goes!\n",
    "    Prints a greeting to oneil\n",
    "    '''\n",
    "    print('Hello my class!')"
   ]
  },
  {
   "cell_type": "code",
   "execution_count": 4,
   "id": "0f980c03",
   "metadata": {},
   "outputs": [
    {
     "name": "stdout",
     "output_type": "stream",
     "text": [
      "Hello my class!\n"
     ]
    }
   ],
   "source": [
    "my_oneil_function()"
   ]
  },
  {
   "cell_type": "markdown",
   "id": "bebe0ef8",
   "metadata": {},
   "source": [
    "#lets assign x into something real\n",
    " #def my_obfuscaton():\n",
    "    x = 45\n",
    "    print(x)"
   ]
  },
  {
   "cell_type": "code",
   "execution_count": 10,
   "id": "f9c958d0",
   "metadata": {},
   "outputs": [],
   "source": [
    "def my_obfuscation():\n",
    "    x = 45\n",
    "    print(x)"
   ]
  },
  {
   "cell_type": "code",
   "execution_count": 8,
   "id": "6aae8a00",
   "metadata": {},
   "outputs": [
    {
     "name": "stdout",
     "output_type": "stream",
     "text": [
      "45\n"
     ]
    }
   ],
   "source": [
    "my_obfuscation()"
   ]
  },
  {
   "cell_type": "code",
   "execution_count": 13,
   "id": "f05d9f7d",
   "metadata": {},
   "outputs": [],
   "source": [
    "x = 7"
   ]
  },
  {
   "cell_type": "code",
   "execution_count": 14,
   "id": "31b93dd5",
   "metadata": {},
   "outputs": [
    {
     "data": {
      "text/plain": [
       "7"
      ]
     },
     "execution_count": 14,
     "metadata": {},
     "output_type": "execute_result"
    }
   ],
   "source": [
    "x"
   ]
  },
  {
   "cell_type": "code",
   "execution_count": 18,
   "id": "2efb7007",
   "metadata": {},
   "outputs": [],
   "source": [
    "def my_altering_function(n):\n",
    "    '''\n",
    "    my altering function\n",
    "    will take any intger value\n",
    "    and reassign that value to 45.\n",
    "    Return: a single int, 45\n",
    "    '''\n",
    "    n = 45\n",
    "    return n"
   ]
  },
  {
   "cell_type": "code",
   "execution_count": null,
   "id": "8cafbff8",
   "metadata": {},
   "outputs": [],
   "source": [
    "x = 7"
   ]
  },
  {
   "cell_type": "code",
   "execution_count": 15,
   "id": "b290b876",
   "metadata": {},
   "outputs": [
    {
     "data": {
      "text/plain": [
       "7"
      ]
     },
     "execution_count": 15,
     "metadata": {},
     "output_type": "execute_result"
    }
   ],
   "source": [
    "x"
   ]
  },
  {
   "cell_type": "code",
   "execution_count": 19,
   "id": "10fc4c22",
   "metadata": {},
   "outputs": [
    {
     "data": {
      "text/plain": [
       "45"
      ]
     },
     "execution_count": 19,
     "metadata": {},
     "output_type": "execute_result"
    }
   ],
   "source": [
    "my_altering_function(x)"
   ]
  },
  {
   "cell_type": "code",
   "execution_count": 20,
   "id": "d75faca1",
   "metadata": {},
   "outputs": [],
   "source": [
    "x = my_altering_function(x)"
   ]
  },
  {
   "cell_type": "code",
   "execution_count": 21,
   "id": "8f469c89",
   "metadata": {},
   "outputs": [
    {
     "data": {
      "text/plain": [
       "45"
      ]
     },
     "execution_count": 21,
     "metadata": {},
     "output_type": "execute_result"
    }
   ],
   "source": [
    "x"
   ]
  },
  {
   "cell_type": "code",
   "execution_count": 22,
   "id": "b6460c38",
   "metadata": {},
   "outputs": [
    {
     "data": {
      "text/plain": [
       "int"
      ]
     },
     "execution_count": 22,
     "metadata": {},
     "output_type": "execute_result"
    }
   ],
   "source": [
    "type(x)"
   ]
  },
  {
   "cell_type": "code",
   "execution_count": 23,
   "id": "17ba6ff3",
   "metadata": {},
   "outputs": [
    {
     "data": {
      "text/plain": [
       "<function __main__.my_oneil_function()>"
      ]
     },
     "execution_count": 23,
     "metadata": {},
     "output_type": "execute_result"
    }
   ],
   "source": [
    "my_oneil_function"
   ]
  },
  {
   "cell_type": "code",
   "execution_count": 24,
   "id": "3972a648",
   "metadata": {},
   "outputs": [
    {
     "name": "stdout",
     "output_type": "stream",
     "text": [
      "Hello my class!\n"
     ]
    }
   ],
   "source": [
    "my_oneil_function()"
   ]
  },
  {
   "cell_type": "code",
   "execution_count": 27,
   "id": "04a954da",
   "metadata": {},
   "outputs": [
    {
     "name": "stdout",
     "output_type": "stream",
     "text": [
      "Hello my class!\n"
     ]
    }
   ],
   "source": [
    "greeting = my_oneil_function()"
   ]
  },
  {
   "cell_type": "code",
   "execution_count": 28,
   "id": "ca8b350f",
   "metadata": {},
   "outputs": [],
   "source": [
    "greeting"
   ]
  },
  {
   "cell_type": "code",
   "execution_count": 29,
   "id": "2dfc1cf1",
   "metadata": {},
   "outputs": [
    {
     "data": {
      "text/plain": [
       "NoneType"
      ]
     },
     "execution_count": 29,
     "metadata": {},
     "output_type": "execute_result"
    }
   ],
   "source": [
    "type(greeting)"
   ]
  },
  {
   "cell_type": "code",
   "execution_count": 30,
   "id": "aee91b9c",
   "metadata": {},
   "outputs": [
    {
     "name": "stdout",
     "output_type": "stream",
     "text": [
      "hello this is correct, right\n"
     ]
    }
   ],
   "source": [
    "greeting_fixed = print('hello this is correct, right')"
   ]
  },
  {
   "cell_type": "code",
   "execution_count": 31,
   "id": "18e9d1ef",
   "metadata": {},
   "outputs": [],
   "source": [
    "my_list_of_args = ['Hello', '9', 24]"
   ]
  },
  {
   "cell_type": "code",
   "execution_count": 32,
   "id": "f920d3fd",
   "metadata": {},
   "outputs": [
    {
     "data": {
      "text/plain": [
       "['Hello', '9', 24]"
      ]
     },
     "execution_count": 32,
     "metadata": {},
     "output_type": "execute_result"
    }
   ],
   "source": [
    "my_list_of_args"
   ]
  },
  {
   "cell_type": "code",
   "execution_count": 33,
   "id": "1a3cc526",
   "metadata": {},
   "outputs": [],
   "source": [
    "def my_extra_fun (x=5,y=10):\n",
    "    x += 5\n",
    "    y += 5\n",
    "    return x, y"
   ]
  },
  {
   "cell_type": "code",
   "execution_count": 34,
   "id": "8287b313",
   "metadata": {},
   "outputs": [
    {
     "data": {
      "text/plain": [
       "<function __main__.my_extra_fun(x=5, y=10)>"
      ]
     },
     "execution_count": 34,
     "metadata": {},
     "output_type": "execute_result"
    }
   ],
   "source": [
    "my_extra_fun"
   ]
  },
  {
   "cell_type": "code",
   "execution_count": 35,
   "id": "951c790a",
   "metadata": {},
   "outputs": [
    {
     "data": {
      "text/plain": [
       "(10, 15)"
      ]
     },
     "execution_count": 35,
     "metadata": {},
     "output_type": "execute_result"
    }
   ],
   "source": [
    "my_extra_fun()"
   ]
  },
  {
   "cell_type": "markdown",
   "id": "52348cf7",
   "metadata": {},
   "source": [
    "#lambda functions are a quick way to write a one-liner:"
   ]
  },
  {
   "cell_type": "code",
   "execution_count": 36,
   "id": "0bc7372d",
   "metadata": {},
   "outputs": [
    {
     "data": {
      "text/plain": [
       "<function __main__.<lambda>(x)>"
      ]
     },
     "execution_count": 36,
     "metadata": {},
     "output_type": "execute_result"
    }
   ],
   "source": [
    "lambda x: x + 5"
   ]
  },
  {
   "cell_type": "code",
   "execution_count": 42,
   "id": "761a0934",
   "metadata": {},
   "outputs": [],
   "source": [
    "#assign a variable called my_first_lambda\n",
    "my_first_lamda = lambda x: x + 5\n"
   ]
  },
  {
   "cell_type": "code",
   "execution_count": 44,
   "id": "7b4cf055",
   "metadata": {},
   "outputs": [],
   "source": [
    "my_first_lambda = lambda x: x + 5"
   ]
  },
  {
   "cell_type": "code",
   "execution_count": 45,
   "id": "5dc4db24",
   "metadata": {},
   "outputs": [
    {
     "data": {
      "text/plain": [
       "<function __main__.<lambda>(x)>"
      ]
     },
     "execution_count": 45,
     "metadata": {},
     "output_type": "execute_result"
    }
   ],
   "source": [
    "my_first_lambda"
   ]
  },
  {
   "cell_type": "code",
   "execution_count": 46,
   "id": "eecec332",
   "metadata": {},
   "outputs": [
    {
     "data": {
      "text/plain": [
       "10"
      ]
     },
     "execution_count": 46,
     "metadata": {},
     "output_type": "execute_result"
    }
   ],
   "source": [
    "my_first_lambda(5)"
   ]
  },
  {
   "cell_type": "code",
   "execution_count": null,
   "id": "aadea89b",
   "metadata": {},
   "outputs": [],
   "source": [
    "#1\n",
    "#Create a file named function_exercises.py for this exercise. \n",
    "#After creating each function specified below, write the necessary code in \n",
    "#order to test your function.\n",
    "\n",
    "#Define a function named is_two. \n",
    "#It should accept one input and return True if \n",
    "#the passed input is either the number or the string 2, False otherwise."
   ]
  },
  {
   "cell_type": "code",
   "execution_count": 482,
   "id": "b559a47f",
   "metadata": {},
   "outputs": [
    {
     "name": "stdout",
     "output_type": "stream",
     "text": [
      "True\n"
     ]
    }
   ],
   "source": [
    "def is_two(num):\n",
    "    return num == 2 or num == '2'\n",
    "    \n",
    "print(is_two(2))\n",
    "    "
   ]
  },
  {
   "cell_type": "code",
   "execution_count": 388,
   "id": "f9072ff8",
   "metadata": {},
   "outputs": [
    {
     "data": {
      "text/plain": [
       "<function __main__.is_two(num)>"
      ]
     },
     "execution_count": 388,
     "metadata": {},
     "output_type": "execute_result"
    }
   ],
   "source": [
    "is_two"
   ]
  },
  {
   "cell_type": "markdown",
   "id": "c6120afd",
   "metadata": {},
   "source": []
  },
  {
   "cell_type": "markdown",
   "id": "0e18fe6b",
   "metadata": {},
   "source": [
    "#2\n",
    "#Define a function named is_vowel. It should return True if \n",
    "#the passed string is a vowel, False otherwise."
   ]
  },
  {
   "cell_type": "code",
   "execution_count": 400,
   "id": "8dc79007",
   "metadata": {},
   "outputs": [
    {
     "name": "stdout",
     "output_type": "stream",
     "text": [
      "False\n"
     ]
    }
   ],
   "source": [
    "def is_vowel(str):\n",
    "    if str in ('a','A', 'E','e', 'I','i', 'O','o','U', 'u'):\n",
    "        return(True)\n",
    "    else:\n",
    "        return(False)\n",
    "\n",
    "\n",
    "print(is_vowel('x'))"
   ]
  },
  {
   "cell_type": "markdown",
   "id": "0b6b1814",
   "metadata": {},
   "source": [
    "#3\n",
    "#Define a function named is_consonant. It should return True if the passed \n",
    "#string is a consonant, \n",
    "#False otherwise. Use your is_vowel function to accomplish this."
   ]
  },
  {
   "cell_type": "code",
   "execution_count": 402,
   "id": "2175b649",
   "metadata": {},
   "outputs": [
    {
     "name": "stdout",
     "output_type": "stream",
     "text": [
      "True\n"
     ]
    }
   ],
   "source": [
    "def is_consonant(str):\n",
    "    if str in ('a','A', 'E','e', 'I','i', 'O','o','U', 'u'):\n",
    "            return(False)\n",
    "    else: \n",
    "        return(True)\n",
    "\n",
    "print(is_consonant('d'))\n"
   ]
  },
  {
   "cell_type": "markdown",
   "id": "3664dced",
   "metadata": {},
   "source": [
    "#4\n",
    "#Define a function that accepts a string that is a word. \n",
    "#The function should capitalize the first letter of \n",
    "#the word if the word starts with a consonant.\n"
   ]
  },
  {
   "cell_type": "code",
   "execution_count": 408,
   "id": "d8462a57",
   "metadata": {},
   "outputs": [
    {
     "name": "stdout",
     "output_type": "stream",
     "text": [
      "Soup\n"
     ]
    }
   ],
   "source": [
    "def my_word(word):\n",
    "    if is_consonant(word[0]):\n",
    "        return word.capitalize()\n",
    "    else:\n",
    "        return word\n",
    "       \n",
    "print(my_word('soup'))\n",
    "    "
   ]
  },
  {
   "cell_type": "markdown",
   "id": "81491b75",
   "metadata": {},
   "source": [
    "#5\n",
    "#Define a function named calculate_tip\n",
    "#It should accept a tip percentage\n",
    "#(a number between 0 and 1) and the bill total,\n",
    "#And return the amount to tip."
   ]
  },
  {
   "cell_type": "code",
   "execution_count": 412,
   "id": "ac0c89a5",
   "metadata": {},
   "outputs": [
    {
     "name": "stdout",
     "output_type": "stream",
     "text": [
      "2.0\n"
     ]
    }
   ],
   "source": [
    "def calculate_tip(my_bill, my_tip=.2):\n",
    "    return my_bill * my_tip\n",
    "\n",
    "print(calculate_tip(20, .10))"
   ]
  },
  {
   "cell_type": "code",
   "execution_count": null,
   "id": "dd96a587",
   "metadata": {},
   "outputs": [],
   "source": [
    "#6\n",
    "#Define a function named calculate_tip\n",
    "#It should accept a tip percentage\n",
    "#(a number between 0 and 1) and the bill total,\n",
    "#and return the amount of tip"
   ]
  },
  {
   "cell_type": "code",
   "execution_count": 418,
   "id": "c7ec8632",
   "metadata": {},
   "outputs": [
    {
     "name": "stdout",
     "output_type": "stream",
     "text": [
      "18.0\n"
     ]
    }
   ],
   "source": [
    " def apply_discount(orig_price, disc_prcnt=0):\n",
    "    \n",
    "    discount_value = orig_price * disc_prcnt\n",
    "    \n",
    "    new_price = orig_price - discount_value\n",
    "    \n",
    "    return new_price\n",
    "\n",
    "print(apply_discount(20, .10))\n",
    "    "
   ]
  },
  {
   "cell_type": "code",
   "execution_count": null,
   "id": "f532d653",
   "metadata": {},
   "outputs": [],
   "source": [
    "#7\n",
    "#Define a function named handle_commas\n",
    "#It should accept a string that is a number that contains\n",
    "#commmas in it as input,\n",
    "#and return a number as output."
   ]
  },
  {
   "cell_type": "code",
   "execution_count": 427,
   "id": "555209b7",
   "metadata": {},
   "outputs": [
    {
     "name": "stdout",
     "output_type": "stream",
     "text": [
      "8000000000000\n"
     ]
    }
   ],
   "source": [
    "def remove_commas(string_num):\n",
    "    num = string_num.replace(',', '')\n",
    "    return int(num)\n",
    "\n",
    "print(remove_commas('8,000,000,000,000'))"
   ]
  },
  {
   "cell_type": "code",
   "execution_count": 432,
   "id": "c5bd54fa",
   "metadata": {},
   "outputs": [
    {
     "name": "stdout",
     "output_type": "stream",
     "text": [
      "A\n"
     ]
    }
   ],
   "source": [
    "#8\n",
    "#Define a function named get_letter_grade\n",
    "#It should accept a number and return the letter grade\n",
    "#associated with that number (A-F)\n",
    "def get_letter_grade(grade):\n",
    "    if grade >= 90:\n",
    "        return 'A'\n",
    "    if grade >= 80:\n",
    "        return 'B'\n",
    "    if grade >= 70:\n",
    "        return 'C'\n",
    "    if grade >= 60:\n",
    "        return 'D'\n",
    "    else:\n",
    "        return 'F'\n",
    "    \n",
    "print(get_letter_grade(92))"
   ]
  },
  {
   "cell_type": "code",
   "execution_count": null,
   "id": "fe48a8f1",
   "metadata": {},
   "outputs": [],
   "source": [
    "#9\n",
    "#Define a function named remove_vowels that accepts a \n",
    "#string and returns a string with all the vowels removed\n"
   ]
  },
  {
   "cell_type": "code",
   "execution_count": 464,
   "id": "b3c2f2c1",
   "metadata": {},
   "outputs": [
    {
     "name": "stdout",
     "output_type": "stream",
     "text": [
      "Hll thr gd wrk\n"
     ]
    }
   ],
   "source": [
    "def remove_vowels(words):\n",
    "    no_vowels = ''\n",
    "    for n in words:\n",
    "        if is_vowel(n):\n",
    "            continue\n",
    "        else:\n",
    "            no_vowels += n\n",
    "    return no_vowels\n",
    "    \n",
    "print(remove_vowels('Hello there good work'))"
   ]
  },
  {
   "cell_type": "code",
   "execution_count": 468,
   "id": "3bbbe32a",
   "metadata": {},
   "outputs": [
    {
     "name": "stdout",
     "output_type": "stream",
     "text": [
      "_w_h_a_t_i_s_g_o_i_n_g_o_n_\n"
     ]
    }
   ],
   "source": [
    "#10\n",
    "#Define a function named normalize_name\n",
    "#It should accept a string and return a valid python identifier\n",
    "#steps I want to take\n",
    "#make lowercase,\n",
    "#string method: .lower()\n",
    "#remove whitespace,\n",
    "#string method .strip()\n",
    "#establish valid identifier\n",
    "#in 'abcdefghijklmnopqrstuvwxyz1234567890'\n",
    "#cheat: 'abcdefg'.isidentifier()\n",
    "\n",
    "def normalize_name(my_var):\n",
    "    my_new_var = ''\n",
    "    for let in my_var:\n",
    "        if let.isdigit() or let.isalpha() or let == '':\n",
    "            my_new_var += let\n",
    "    return my_new_var.strip().lower().replace('','_')\n",
    "\n",
    "print(normalize_name('WHAT IS GOING ON'))"
   ]
  },
  {
   "cell_type": "code",
   "execution_count": 478,
   "id": "fe54032a",
   "metadata": {},
   "outputs": [
    {
     "name": "stdout",
     "output_type": "stream",
     "text": [
      "[1, 3, 6, 10, 15]\n"
     ]
    }
   ],
   "source": [
    "#11\n",
    "#Write a function named cumulative_sum that accepts a list of numbers and returns a list\n",
    "#that is the cumulative sum of the numbers in the list\n",
    "#cumulative_sum ([1,1,1]) returns [1,2,3]\n",
    "#cumulative_sum([1,2,3,4]) returns [1,3,6,10]\n",
    "def cumulative_sum(some_list):\n",
    "    counting_sum = 0\n",
    "    new_list = []\n",
    "    for i in some_list:\n",
    "        counting_sum += i\n",
    "        new_list.append(counting_sum)\n",
    "    return new_list\n",
    "    \n",
    "    \n",
    "print(cumulative_sum([1, 2, 3, 4, 5]))"
   ]
  },
  {
   "cell_type": "code",
   "execution_count": null,
   "id": "27a31fd6",
   "metadata": {},
   "outputs": [],
   "source": []
  }
 ],
 "metadata": {
  "kernelspec": {
   "display_name": "Python 3 (ipykernel)",
   "language": "python",
   "name": "python3"
  },
  "language_info": {
   "codemirror_mode": {
    "name": "ipython",
    "version": 3
   },
   "file_extension": ".py",
   "mimetype": "text/x-python",
   "name": "python",
   "nbconvert_exporter": "python",
   "pygments_lexer": "ipython3",
   "version": "3.9.13"
  }
 },
 "nbformat": 4,
 "nbformat_minor": 5
}
