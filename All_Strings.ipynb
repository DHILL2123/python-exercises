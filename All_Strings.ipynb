{
 "cells": [
  {
   "cell_type": "code",
   "execution_count": 1,
   "id": "6e7702ed",
   "metadata": {},
   "outputs": [
    {
     "data": {
      "text/plain": [
       "'this is a string'"
      ]
     },
     "execution_count": 1,
     "metadata": {},
     "output_type": "execute_result"
    }
   ],
   "source": [
    "'this is a string'"
   ]
  },
  {
   "cell_type": "code",
   "execution_count": 4,
   "id": "a153f222",
   "metadata": {},
   "outputs": [
    {
     "name": "stdout",
     "output_type": "stream",
     "text": [
      "This is a string\n"
     ]
    }
   ],
   "source": [
    "print('This is a string')"
   ]
  },
  {
   "cell_type": "code",
   "execution_count": 8,
   "id": "2d17094c",
   "metadata": {},
   "outputs": [
    {
     "name": "stdout",
     "output_type": "stream",
     "text": [
      "This is a \n",
      "String\n"
     ]
    }
   ],
   "source": [
    "print('This is a \\nString')"
   ]
  },
  {
   "cell_type": "code",
   "execution_count": 9,
   "id": "a92adacb",
   "metadata": {},
   "outputs": [],
   "source": [
    "mystring = \"Hello World\""
   ]
  },
  {
   "cell_type": "code",
   "execution_count": 10,
   "id": "44e117fb",
   "metadata": {},
   "outputs": [
    {
     "data": {
      "text/plain": [
       "'H'"
      ]
     },
     "execution_count": 10,
     "metadata": {},
     "output_type": "execute_result"
    }
   ],
   "source": [
    "#String indexing\n",
    "mystring[0]"
   ]
  },
  {
   "cell_type": "code",
   "execution_count": 11,
   "id": "ef004c52",
   "metadata": {},
   "outputs": [
    {
     "data": {
      "text/plain": [
       "'r'"
      ]
     },
     "execution_count": 11,
     "metadata": {},
     "output_type": "execute_result"
    }
   ],
   "source": [
    "mystring[8]"
   ]
  },
  {
   "cell_type": "code",
   "execution_count": 12,
   "id": "e9aa7d8d",
   "metadata": {},
   "outputs": [
    {
     "data": {
      "text/plain": [
       "'d'"
      ]
     },
     "execution_count": 12,
     "metadata": {},
     "output_type": "execute_result"
    }
   ],
   "source": [
    "#Reverse indexing\n",
    "mystring[-1]"
   ]
  },
  {
   "cell_type": "code",
   "execution_count": 13,
   "id": "b46f9cfb",
   "metadata": {},
   "outputs": [],
   "source": [
    "mystring = 'abcdefghijk'\n"
   ]
  },
  {
   "cell_type": "code",
   "execution_count": 16,
   "id": "f6430a6b",
   "metadata": {},
   "outputs": [
    {
     "data": {
      "text/plain": [
       "'abcdefghijk'"
      ]
     },
     "execution_count": 16,
     "metadata": {},
     "output_type": "execute_result"
    }
   ],
   "source": [
    "mystring"
   ]
  },
  {
   "cell_type": "code",
   "execution_count": 14,
   "id": "73da3a1d",
   "metadata": {},
   "outputs": [
    {
     "data": {
      "text/plain": [
       "'cdefghijk'"
      ]
     },
     "execution_count": 14,
     "metadata": {},
     "output_type": "execute_result"
    }
   ],
   "source": [
    "#string slicing\n",
    "#mystring[start:stop:step]\n",
    "mystring[2:]"
   ]
  },
  {
   "cell_type": "code",
   "execution_count": 15,
   "id": "6b6c0b9f",
   "metadata": {},
   "outputs": [
    {
     "data": {
      "text/plain": [
       "'abc'"
      ]
     },
     "execution_count": 15,
     "metadata": {},
     "output_type": "execute_result"
    }
   ],
   "source": [
    "mystring[:3]"
   ]
  },
  {
   "cell_type": "code",
   "execution_count": 17,
   "id": "1f61568a",
   "metadata": {},
   "outputs": [
    {
     "data": {
      "text/plain": [
       "'def'"
      ]
     },
     "execution_count": 17,
     "metadata": {},
     "output_type": "execute_result"
    }
   ],
   "source": [
    "mystring[3:6]"
   ]
  },
  {
   "cell_type": "code",
   "execution_count": 18,
   "id": "94a76858",
   "metadata": {},
   "outputs": [
    {
     "data": {
      "text/plain": [
       "'bc'"
      ]
     },
     "execution_count": 18,
     "metadata": {},
     "output_type": "execute_result"
    }
   ],
   "source": [
    "mystring[1:3]"
   ]
  },
  {
   "cell_type": "code",
   "execution_count": 19,
   "id": "89640de2",
   "metadata": {},
   "outputs": [
    {
     "data": {
      "text/plain": [
       "'adgj'"
      ]
     },
     "execution_count": 19,
     "metadata": {},
     "output_type": "execute_result"
    }
   ],
   "source": [
    "mystring[::3]"
   ]
  },
  {
   "cell_type": "code",
   "execution_count": 20,
   "id": "6736706a",
   "metadata": {},
   "outputs": [
    {
     "data": {
      "text/plain": [
       "'kjihgfedcba'"
      ]
     },
     "execution_count": 20,
     "metadata": {},
     "output_type": "execute_result"
    }
   ],
   "source": [
    "mystring[::-1]"
   ]
  },
  {
   "cell_type": "code",
   "execution_count": 21,
   "id": "ce4eb2d6",
   "metadata": {},
   "outputs": [
    {
     "data": {
      "text/plain": [
       "'kheb'"
      ]
     },
     "execution_count": 21,
     "metadata": {},
     "output_type": "execute_result"
    }
   ],
   "source": [
    "mystring[::-3]"
   ]
  },
  {
   "cell_type": "code",
   "execution_count": 26,
   "id": "6cad34ec",
   "metadata": {},
   "outputs": [],
   "source": [
    "#String concatnation\n",
    "x = 'Hello World '"
   ]
  },
  {
   "cell_type": "code",
   "execution_count": 28,
   "id": "6e44c763",
   "metadata": {},
   "outputs": [],
   "source": [
    "x = x + 'it is so nice today'"
   ]
  },
  {
   "cell_type": "code",
   "execution_count": 29,
   "id": "d6dec032",
   "metadata": {},
   "outputs": [
    {
     "data": {
      "text/plain": [
       "'Hello World it is so nice today'"
      ]
     },
     "execution_count": 29,
     "metadata": {},
     "output_type": "execute_result"
    }
   ],
   "source": [
    "x"
   ]
  },
  {
   "cell_type": "code",
   "execution_count": 30,
   "id": "7526b769",
   "metadata": {},
   "outputs": [],
   "source": [
    "#String multiplication\n",
    "letter = 'Z'"
   ]
  },
  {
   "cell_type": "code",
   "execution_count": 31,
   "id": "97b45873",
   "metadata": {},
   "outputs": [
    {
     "data": {
      "text/plain": [
       "'ZZZZZZZZZZ'"
      ]
     },
     "execution_count": 31,
     "metadata": {},
     "output_type": "execute_result"
    }
   ],
   "source": [
    "letter * 10"
   ]
  },
  {
   "cell_type": "code",
   "execution_count": 74,
   "id": "c33ec923",
   "metadata": {},
   "outputs": [],
   "source": [
    "# . plus tab button behind variable open method list (variable.(tab button) opens method() list)\n",
    "x = 'Hello World'"
   ]
  },
  {
   "cell_type": "code",
   "execution_count": 72,
   "id": "faef5a1c",
   "metadata": {},
   "outputs": [
    {
     "data": {
      "text/plain": [
       "'HelloWorld'"
      ]
     },
     "execution_count": 72,
     "metadata": {},
     "output_type": "execute_result"
    }
   ],
   "source": [
    "#.strip() removes white space\n",
    "x.strip()"
   ]
  },
  {
   "cell_type": "code",
   "execution_count": 77,
   "id": "701dd44e",
   "metadata": {},
   "outputs": [
    {
     "data": {
      "text/plain": [
       "['Hello', 'World']"
      ]
     },
     "execution_count": 77,
     "metadata": {},
     "output_type": "execute_result"
    }
   ],
   "source": [
    "#.split() splits your string into a list at the white spaces\n",
    "x.split()"
   ]
  },
  {
   "cell_type": "code",
   "execution_count": 79,
   "id": "89df4a2d",
   "metadata": {},
   "outputs": [
    {
     "name": "stdout",
     "output_type": "stream",
     "text": [
      "This is a string INSERTED\n"
     ]
    }
   ],
   "source": [
    "#String interpulation(stick a variable into a string)\n",
    "print('This is a string {}'.format('INSERTED'))\n"
   ]
  },
  {
   "cell_type": "code",
   "execution_count": 83,
   "id": "fc850b07",
   "metadata": {},
   "outputs": [
    {
     "name": "stdout",
     "output_type": "stream",
     "text": [
      "The quick brown fox\n",
      "The quick brown fox\n"
     ]
    }
   ],
   "source": [
    "#can use .format() to insert and call by index number\n",
    "#can also be used to create and inser string variables\n",
    "print('The {2} {1} {0}'.format('fox', 'brown','quick'))\n",
    "print('The {q} {b} {f}'.format(f='fox', b='brown', q='quick'))"
   ]
  },
  {
   "cell_type": "code",
   "execution_count": 87,
   "id": "3d7f3dbc",
   "metadata": {},
   "outputs": [
    {
     "data": {
      "text/plain": [
       "0.1287001287001287"
      ]
     },
     "execution_count": 87,
     "metadata": {},
     "output_type": "execute_result"
    }
   ],
   "source": [
    "#Float formatting follows  \"{value:width:precision f}\"\n",
    "result = 100/777\n",
    "result"
   ]
  },
  {
   "cell_type": "code",
   "execution_count": 93,
   "id": "ad183b39",
   "metadata": {},
   "outputs": [
    {
     "name": "stdout",
     "output_type": "stream",
     "text": [
      "The value of 100/777 is 0.1287001287001287\n",
      "The result is 0.13\n"
     ]
    }
   ],
   "source": [
    "print('The value of 100/777 is {}'.format(result)) # passes in the variable result\n",
    "print('The result is {r:1.2f}'.format(r=result)) #passes in r = results and can be rounded in the {}\n",
    "# :1 is the width and 2f is the decimal place precision."
   ]
  },
  {
   "cell_type": "code",
   "execution_count": 96,
   "id": "27d6a55e",
   "metadata": {},
   "outputs": [
    {
     "name": "stdout",
     "output_type": "stream",
     "text": [
      "Hello, his hame is Jose\n"
     ]
    }
   ],
   "source": [
    "#print(f'') allows you to call your variable in the string\n",
    "#without using the .format()\n",
    "\n",
    "name = 'Jose'\n",
    "print(f'Hello, his hame is {name}') "
   ]
  },
  {
   "cell_type": "code",
   "execution_count": 101,
   "id": "bca8af60",
   "metadata": {},
   "outputs": [
    {
     "name": "stdout",
     "output_type": "stream",
     "text": [
      "Alex is 5, and is from New York\n"
     ]
    }
   ],
   "source": [
    "name = 'Alex'\n",
    "age = 5\n",
    "home = 'New York'\n",
    "\n",
    "print(f'{name} is {age}, and is from {home}')"
   ]
  },
  {
   "cell_type": "code",
   "execution_count": null,
   "id": "9f5e2abe",
   "metadata": {},
   "outputs": [],
   "source": []
  },
  {
   "cell_type": "code",
   "execution_count": null,
   "id": "5c38d5dd",
   "metadata": {},
   "outputs": [],
   "source": []
  },
  {
   "cell_type": "code",
   "execution_count": null,
   "id": "29792adb",
   "metadata": {},
   "outputs": [],
   "source": []
  }
 ],
 "metadata": {
  "kernelspec": {
   "display_name": "Python 3 (ipykernel)",
   "language": "python",
   "name": "python3"
  },
  "language_info": {
   "codemirror_mode": {
    "name": "ipython",
    "version": 3
   },
   "file_extension": ".py",
   "mimetype": "text/x-python",
   "name": "python",
   "nbconvert_exporter": "python",
   "pygments_lexer": "ipython3",
   "version": "3.9.13"
  }
 },
 "nbformat": 4,
 "nbformat_minor": 5
}
