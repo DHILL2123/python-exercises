{
 "cells": [
  {
   "cell_type": "code",
   "execution_count": 19,
   "id": "a5dbd324",
   "metadata": {},
   "outputs": [],
   "source": [
    "#lets start with a variable called\n",
    "#breakfast\n",
    "breakfast = 'banana'"
   ]
  },
  {
   "cell_type": "code",
   "execution_count": 10,
   "id": "714eec48",
   "metadata": {},
   "outputs": [
    {
     "data": {
      "text/plain": [
       "'banana'"
      ]
     },
     "execution_count": 10,
     "metadata": {},
     "output_type": "execute_result"
    }
   ],
   "source": [
    "breakfast"
   ]
  },
  {
   "cell_type": "code",
   "execution_count": 69,
   "id": "678957e4",
   "metadata": {},
   "outputs": [
    {
     "name": "stdout",
     "output_type": "stream",
     "text": [
      "you had something else! or nothing\n"
     ]
    }
   ],
   "source": [
    "#remember!\n",
    "# = in python is an assignment operator\n",
    "# == in python is an equivalence check\n",
    "\n",
    "if breakfast == 'apple':\n",
    "    print('you had fruit')\n",
    "else:\n",
    "    print('you had something else! or nothing')"
   ]
  },
  {
   "cell_type": "code",
   "execution_count": 12,
   "id": "4f441a32",
   "metadata": {},
   "outputs": [
    {
     "name": "stdout",
     "output_type": "stream",
     "text": [
      "breakfast! yay breakfast!\n"
     ]
    }
   ],
   "source": [
    "if breakfast:\n",
    "    print('breakfast! yay breakfast!')"
   ]
  },
  {
   "cell_type": "code",
   "execution_count": 13,
   "id": "37e3cb26",
   "metadata": {},
   "outputs": [
    {
     "data": {
      "text/plain": [
       "str"
      ]
     },
     "execution_count": 13,
     "metadata": {},
     "output_type": "execute_result"
    }
   ],
   "source": [
    "type(breakfast)"
   ]
  },
  {
   "cell_type": "code",
   "execution_count": 21,
   "id": "ed63fdca",
   "metadata": {},
   "outputs": [
    {
     "name": "stdout",
     "output_type": "stream",
     "text": [
      "you may need more caffeine!\n"
     ]
    }
   ],
   "source": [
    "had_coffee = True\n",
    "if had_coffee:\n",
    "    print('you may need more caffeine!')\n",
    "    \n"
   ]
  },
  {
   "cell_type": "code",
   "execution_count": 28,
   "id": "02a2c180",
   "metadata": {},
   "outputs": [],
   "source": []
  },
  {
   "cell_type": "markdown",
   "id": "034e89a6",
   "metadata": {},
   "source": [
    "#prompt the user for a day of the week, print out whether the day \n",
    "#is Monday or not"
   ]
  },
  {
   "cell_type": "code",
   "execution_count": 80,
   "id": "44addad6",
   "metadata": {},
   "outputs": [
    {
     "name": "stdout",
     "output_type": "stream",
     "text": [
      "enter the day of week Monday\n",
      "The day of week is Monday\n"
     ]
    }
   ],
   "source": [
    "day_of_week = input(\"enter the day of week \")\n",
    "if day_of_week.lower() == 'monday':\n",
    "    print(\"The day of week is \"  + day_of_week)\n",
    "else:\n",
    "    print('The day of the week is not Monday')"
   ]
  },
  {
   "cell_type": "markdown",
   "id": "c80c92d1",
   "metadata": {},
   "source": [
    "#Below shows the current day as a weekday or weekend day."
   ]
  },
  {
   "cell_type": "code",
   "execution_count": 53,
   "id": "96da2888",
   "metadata": {},
   "outputs": [
    {
     "name": "stdout",
     "output_type": "stream",
     "text": [
      "Today is a Weekday\n"
     ]
    }
   ],
   "source": [
    "from datetime import datetime\n",
    "  \n",
    "# Get Day Number from weekday\n",
    "weekno = datetime.today().weekday()\n",
    "\n",
    "if weekno < 5:\n",
    "    print(\"Today is a Weekday\")\n",
    "else:  \n",
    "    # 5 Sat, 6 Sun\n",
    "    print(\"Today is a Weekend\")\n",
    "    \n",
    "    "
   ]
  },
  {
   "cell_type": "markdown",
   "id": "faf219a8",
   "metadata": {},
   "source": [
    "#prompt the user for a day of the week, print out whether the day \n",
    "#is a weekday or a weekend"
   ]
  },
  {
   "cell_type": "code",
   "execution_count": 52,
   "id": "b81a9013",
   "metadata": {},
   "outputs": [
    {
     "name": "stdout",
     "output_type": "stream",
     "text": [
      "enter a day monday\n",
      "This is a weekday\n"
     ]
    }
   ],
   "source": [
    "day_of_week = input('enter a day ')\n",
    "if day_of_week.lower() in ['saturday','sunday']:\n",
    "    print('This is a weekend')\n",
    "else:\n",
    "    print('This is a weekday')"
   ]
  },
  {
   "cell_type": "markdown",
   "id": "4010163f",
   "metadata": {},
   "source": [
    "#create variables and make up values for\n",
    "#the number of hours worked in one week\n",
    "#the hourly rate\n",
    "#how much the week's paycheck will be\n",
    "#write the python code that calculates the weekly paycheck. \n",
    "#You get paid time and a half if you work more than 40 hours"
   ]
  },
  {
   "cell_type": "code",
   "execution_count": 42,
   "id": "1b0658e2",
   "metadata": {},
   "outputs": [
    {
     "name": "stdout",
     "output_type": "stream",
     "text": [
      "3500.0 Overtime check\n"
     ]
    }
   ],
   "source": [
    "num_hours_week = 100\n",
    "hourly_rate = 50.00\n",
    "ot_hourly_rate = 1.5\n",
    "ot_hours_week = 20\n",
    "paycheck_ot = (ot_hours_week * (hourly_rate * ot_hourly_rate)) + paycheck_r\n",
    "paycheck_r = hourly_rate * 40\n",
    "if num_hours_week > 40:\n",
    "    print(str(paycheck_ot) + \" Overtime check\")\n",
    "else:\n",
    "    print(str(paycheck_r) + ' Regular check')\n",
    "    \n"
   ]
  },
  {
   "cell_type": "markdown",
   "id": "d46d35b8",
   "metadata": {},
   "source": [
    "#Loop Basics\n",
    "\n",
    "#While\n",
    "\n",
    "#Create an integer variable i with a value of 5.\n",
    "#Create a while loop that runs so long as i is less than or equal to 15\n",
    "#Each loop iteration, output the current value of i, then increment i by one\n"
   ]
  },
  {
   "cell_type": "code",
   "execution_count": 40,
   "id": "555f390b",
   "metadata": {},
   "outputs": [
    {
     "name": "stdout",
     "output_type": "stream",
     "text": [
      "5\n",
      "6\n",
      "7\n",
      "8\n",
      "9\n",
      "10\n",
      "11\n",
      "12\n",
      "13\n",
      "14\n",
      "15\n"
     ]
    }
   ],
   "source": [
    "i = 5\n",
    "while i <= 15:\n",
    "  print(i)\n",
    "  i += 1"
   ]
  },
  {
   "cell_type": "markdown",
   "id": "64330290",
   "metadata": {},
   "source": [
    "#Create a while loop that will count by 2's starting with 0 and \n",
    "#ending at 100. Follow each number with a new line."
   ]
  },
  {
   "cell_type": "code",
   "execution_count": 43,
   "id": "470e9b51",
   "metadata": {},
   "outputs": [
    {
     "name": "stdout",
     "output_type": "stream",
     "text": [
      "0\n",
      "\n",
      "\n",
      "2\n",
      "\n",
      "\n",
      "4\n",
      "\n",
      "\n",
      "6\n",
      "\n",
      "\n",
      "8\n",
      "\n",
      "\n",
      "10\n",
      "\n",
      "\n",
      "12\n",
      "\n",
      "\n",
      "14\n",
      "\n",
      "\n",
      "16\n",
      "\n",
      "\n",
      "18\n",
      "\n",
      "\n",
      "20\n",
      "\n",
      "\n",
      "22\n",
      "\n",
      "\n",
      "24\n",
      "\n",
      "\n",
      "26\n",
      "\n",
      "\n",
      "28\n",
      "\n",
      "\n",
      "30\n",
      "\n",
      "\n",
      "32\n",
      "\n",
      "\n",
      "34\n",
      "\n",
      "\n",
      "36\n",
      "\n",
      "\n",
      "38\n",
      "\n",
      "\n",
      "40\n",
      "\n",
      "\n",
      "42\n",
      "\n",
      "\n",
      "44\n",
      "\n",
      "\n",
      "46\n",
      "\n",
      "\n",
      "48\n",
      "\n",
      "\n",
      "50\n",
      "\n",
      "\n",
      "52\n",
      "\n",
      "\n",
      "54\n",
      "\n",
      "\n",
      "56\n",
      "\n",
      "\n",
      "58\n",
      "\n",
      "\n",
      "60\n",
      "\n",
      "\n",
      "62\n",
      "\n",
      "\n",
      "64\n",
      "\n",
      "\n",
      "66\n",
      "\n",
      "\n",
      "68\n",
      "\n",
      "\n",
      "70\n",
      "\n",
      "\n",
      "72\n",
      "\n",
      "\n",
      "74\n",
      "\n",
      "\n",
      "76\n",
      "\n",
      "\n",
      "78\n",
      "\n",
      "\n",
      "80\n",
      "\n",
      "\n",
      "82\n",
      "\n",
      "\n",
      "84\n",
      "\n",
      "\n",
      "86\n",
      "\n",
      "\n",
      "88\n",
      "\n",
      "\n",
      "90\n",
      "\n",
      "\n",
      "92\n",
      "\n",
      "\n",
      "94\n",
      "\n",
      "\n",
      "96\n",
      "\n",
      "\n",
      "98\n",
      "\n",
      "\n",
      "100\n",
      "\n",
      "\n"
     ]
    }
   ],
   "source": [
    "i = 0\n",
    "while i <= 100:\n",
    "    print(i)\n",
    "    print('\\n')\n",
    "    i += 2"
   ]
  },
  {
   "cell_type": "markdown",
   "id": "0fc323a2",
   "metadata": {},
   "source": [
    "#Alter your loop to count backwards by 5's from 100 to -10."
   ]
  },
  {
   "cell_type": "code",
   "execution_count": 119,
   "id": "319cfd74",
   "metadata": {},
   "outputs": [
    {
     "name": "stdout",
     "output_type": "stream",
     "text": [
      "100\n",
      "\n",
      "\n",
      "95\n",
      "\n",
      "\n",
      "90\n",
      "\n",
      "\n",
      "85\n",
      "\n",
      "\n",
      "80\n",
      "\n",
      "\n",
      "75\n",
      "\n",
      "\n",
      "70\n",
      "\n",
      "\n",
      "65\n",
      "\n",
      "\n",
      "60\n",
      "\n",
      "\n",
      "55\n",
      "\n",
      "\n",
      "50\n",
      "\n",
      "\n",
      "45\n",
      "\n",
      "\n",
      "40\n",
      "\n",
      "\n",
      "35\n",
      "\n",
      "\n",
      "30\n",
      "\n",
      "\n",
      "25\n",
      "\n",
      "\n",
      "20\n",
      "\n",
      "\n",
      "15\n",
      "\n",
      "\n",
      "10\n",
      "\n",
      "\n",
      "5\n",
      "\n",
      "\n",
      "0\n",
      "\n",
      "\n",
      "-5\n",
      "\n",
      "\n",
      "-10\n",
      "\n",
      "\n"
     ]
    }
   ],
   "source": [
    "i = 100\n",
    "while i >= -10:\n",
    "    print(i)\n",
    "    print('\\n')\n",
    "    i -= 5"
   ]
  },
  {
   "cell_type": "markdown",
   "id": "525f5312",
   "metadata": {},
   "source": [
    "#Create a while loop that starts at 2, and displays the number \n",
    "#squared on each line while the number is less than 1,000,000. \n",
    "#Output should equal:"
   ]
  },
  {
   "cell_type": "code",
   "execution_count": null,
   "id": "6c1d33e2",
   "metadata": {},
   "outputs": [],
   "source": []
  },
  {
   "cell_type": "code",
   "execution_count": 44,
   "id": "8126f328",
   "metadata": {},
   "outputs": [
    {
     "name": "stdout",
     "output_type": "stream",
     "text": [
      "2\n",
      "4\n",
      "16\n",
      "256\n",
      "65536\n"
     ]
    }
   ],
   "source": [
    "i = 2 \n",
    "while i <= 1000000:\n",
    "    print(i)\n",
    "    i = i ** 2"
   ]
  },
  {
   "cell_type": "markdown",
   "id": "cf444ab4",
   "metadata": {},
   "source": [
    "#Write a loop that uses print to create 100 subtract 5 until you reach\n",
    "#number 5"
   ]
  },
  {
   "cell_type": "code",
   "execution_count": 48,
   "id": "8498a435",
   "metadata": {},
   "outputs": [
    {
     "name": "stdout",
     "output_type": "stream",
     "text": [
      "100\n",
      "95\n",
      "90\n",
      "85\n",
      "80\n",
      "75\n",
      "70\n",
      "65\n",
      "60\n",
      "55\n",
      "50\n",
      "45\n",
      "40\n",
      "35\n",
      "30\n",
      "25\n",
      "20\n",
      "15\n",
      "10\n",
      "5\n"
     ]
    }
   ],
   "source": [
    "i = 100\n",
    "while i >= 5:\n",
    "    print(i)\n",
    "    i-=5"
   ]
  },
  {
   "cell_type": "markdown",
   "id": "22a2d340",
   "metadata": {},
   "source": [
    "#For Loops\n",
    "#Write some code that prompts the user for a number, \n",
    "#then shows a multiplication table up through 10 for that number.\n",
    "\n"
   ]
  },
  {
   "cell_type": "code",
   "execution_count": 22,
   "id": "53030763",
   "metadata": {},
   "outputs": [
    {
     "name": "stdout",
     "output_type": "stream",
     "text": [
      "enter number7\n",
      "7\n",
      " 7 x 1 = 7\n",
      " 7 x 2 = 14\n",
      " 7 x 3 = 21\n",
      " 7 x 4 = 28\n",
      " 7 x 5 = 35\n",
      " 7 x 6 = 42\n",
      " 7 x 7 = 49\n",
      " 7 x 8 = 56\n",
      " 7 x 9 = 63\n",
      " 7 x 10 = 70\n"
     ]
    }
   ],
   "source": [
    "x = input('enter number')\n",
    "print(x)\n",
    "for i in range(1, 11):\n",
    "      print(f\" {x} x {i} = {int(x)*i}\")\n",
    "    \n",
    "\n",
    "   "
   ]
  },
  {
   "cell_type": "markdown",
   "id": "d0c76de5",
   "metadata": {},
   "source": [
    "#Create a for loop that uses print to create the output shown below.\n",
    "#1\n",
    "#22\n",
    "#333\n",
    "#4444\n",
    "#55555\n",
    "#666666\n",
    "#7777777\n",
    "#88888888\n",
    "#999999999\n",
    "    \n"
   ]
  },
  {
   "cell_type": "code",
   "execution_count": 60,
   "id": "24848214",
   "metadata": {},
   "outputs": [
    {
     "name": "stdout",
     "output_type": "stream",
     "text": [
      "1\n",
      "22\n",
      "333\n",
      "4444\n",
      "55555\n",
      "666666\n",
      "7777777\n",
      "88888888\n",
      "999999999\n"
     ]
    }
   ],
   "source": [
    "for x in range(1,10):\n",
    "    print(x * str(x))"
   ]
  },
  {
   "cell_type": "markdown",
   "id": "87368ad2",
   "metadata": {},
   "source": [
    "#Prompt the user for an odd number between 1 and 50. \n",
    "#Use a loop and a break statement to continue prompting the user \n",
    "#if they enter invalid input. (Hint: use the isdigit method on \n",
    "#strings to determine this). Use a loop and the continue statement \n",
    "#to output all the odd numbers between 1 and 50, except for the number \n",
    "#the user entered."
   ]
  },
  {
   "cell_type": "code",
   "execution_count": 67,
   "id": "682017df",
   "metadata": {},
   "outputs": [
    {
     "name": "stdout",
     "output_type": "stream",
     "text": [
      "Enter odd number 1 - 50:  7\n",
      "this is a digit\n",
      "this is odd\n",
      "this number is in range\n",
      "1\n",
      "3\n",
      "5\n",
      "9\n",
      "11\n",
      "13\n",
      "15\n",
      "17\n",
      "19\n",
      "21\n",
      "23\n",
      "25\n",
      "27\n",
      "29\n",
      "31\n",
      "33\n",
      "35\n",
      "37\n",
      "39\n",
      "41\n",
      "43\n",
      "45\n",
      "47\n",
      "49\n"
     ]
    }
   ],
   "source": [
    "while True:\n",
    "    number = input('Enter odd number 1 - 50:  ')\n",
    "    if number.isdigit() == True:\n",
    "        print('this is a digit')\n",
    "        if int(number) % 2 == 1:\n",
    "            print('this is odd')\n",
    "            if (int(number) > 1) and (int(number) < 50):\n",
    "                print('this number is in range')\n",
    "                break\n",
    "number = int(number)\n",
    "\n",
    "for x in range (1, 50):\n",
    "    if x == number:\n",
    "        continue\n",
    "    if x % 2 == 1:\n",
    "            print(x)"
   ]
  },
  {
   "cell_type": "markdown",
   "id": "c4ea4d8e",
   "metadata": {},
   "source": [
    "#break and continue\n",
    "\n",
    "#Write a program that prompts the user for a positive integer. \n",
    "#Next write a loop that prints out the numbers from the number the \n",
    "#user entered down to 1."
   ]
  },
  {
   "cell_type": "code",
   "execution_count": 68,
   "id": "ffd3b058",
   "metadata": {},
   "outputs": [
    {
     "name": "stdout",
     "output_type": "stream",
     "text": [
      "enter posistive number7\n",
      "this is a digit\n",
      "this is positive\n",
      "7\n",
      "6\n",
      "5\n",
      "4\n",
      "3\n",
      "2\n",
      "1\n"
     ]
    }
   ],
   "source": [
    "while True:\n",
    "    number = input('enter posistive number')\n",
    "\n",
    "    if number.isdigit() == True:\n",
    "        print('this is a digit')\n",
    "        if int(number) > 0:\n",
    "            print('this is positive')\n",
    "            break\n",
    "number = int(number)\n",
    "for x in range(number, 0, -1):\n",
    "    print(x)"
   ]
  },
  {
   "cell_type": "markdown",
   "id": "d961d63f",
   "metadata": {},
   "source": [
    "#The input function can be used to prompt for input and use that \n",
    "#input in your python code. Prompt the user to enter a positive number \n",
    "#and write a loop that counts from 0 to that number. \n",
    "#(Hints: note that the input function returns a string, so \n",
    "#you'll need to convert this to a numeric type.)"
   ]
  },
  {
   "cell_type": "code",
   "execution_count": 71,
   "id": "e8c3e2b7",
   "metadata": {},
   "outputs": [
    {
     "name": "stdout",
     "output_type": "stream",
     "text": [
      "Enter a posistive number7\n",
      "this is a digit\n",
      "this is posisitive\n",
      "0\n",
      "1\n",
      "2\n",
      "3\n",
      "4\n",
      "5\n",
      "6\n",
      "7\n"
     ]
    }
   ],
   "source": [
    "while True:\n",
    "    number = input('Enter a posistive number ')\n",
    "\n",
    "    if number.isdigit() == True:\n",
    "        print('this is a digit')\n",
    "        if int(number) > 0:\n",
    "            print('this is posisitive')\n",
    "            break\n",
    "for x in range(int(number) + 1):\n",
    "    print(x)"
   ]
  },
  {
   "cell_type": "markdown",
   "id": "7f3dcc93",
   "metadata": {},
   "source": [
    "Fizzbuzz\n",
    "One of the most common interview questions for entry-level programmers is the FizzBuzz test. Developed by Imran Ghory, the test is designed to test basic looping and conditional logic skills.\n",
    "\n",
    "Write a program that prints the numbers from 1 to 100.\n",
    "For multiples of three print \"Fizz\" instead of the number\n",
    "For the multiples of five print \"Buzz\".\n",
    "For numbers which are multiples of both three and five print \"FizzBuzz\"."
   ]
  },
  {
   "cell_type": "code",
   "execution_count": 72,
   "id": "09c7d261",
   "metadata": {},
   "outputs": [
    {
     "name": "stdout",
     "output_type": "stream",
     "text": [
      "1\n",
      "2\n",
      "Fizz\n",
      "4\n",
      "Buzz\n",
      "Fizz\n",
      "7\n",
      "8\n",
      "Fizz\n",
      "Buzz\n",
      "11\n",
      "Fizz\n",
      "13\n",
      "14\n",
      "FizzBuzz\n",
      "16\n",
      "17\n",
      "Fizz\n",
      "19\n",
      "Buzz\n",
      "Fizz\n",
      "22\n",
      "23\n",
      "Fizz\n",
      "Buzz\n",
      "26\n",
      "Fizz\n",
      "28\n",
      "29\n",
      "FizzBuzz\n",
      "31\n",
      "32\n",
      "Fizz\n",
      "34\n",
      "Buzz\n",
      "Fizz\n",
      "37\n",
      "38\n",
      "Fizz\n",
      "Buzz\n",
      "41\n",
      "Fizz\n",
      "43\n",
      "44\n",
      "FizzBuzz\n",
      "46\n",
      "47\n",
      "Fizz\n",
      "49\n",
      "Buzz\n",
      "Fizz\n",
      "52\n",
      "53\n",
      "Fizz\n",
      "Buzz\n",
      "56\n",
      "Fizz\n",
      "58\n",
      "59\n",
      "FizzBuzz\n",
      "61\n",
      "62\n",
      "Fizz\n",
      "64\n",
      "Buzz\n",
      "Fizz\n",
      "67\n",
      "68\n",
      "Fizz\n",
      "Buzz\n",
      "71\n",
      "Fizz\n",
      "73\n",
      "74\n",
      "FizzBuzz\n",
      "76\n",
      "77\n",
      "Fizz\n",
      "79\n",
      "Buzz\n",
      "Fizz\n",
      "82\n",
      "83\n",
      "Fizz\n",
      "Buzz\n",
      "86\n",
      "Fizz\n",
      "88\n",
      "89\n",
      "FizzBuzz\n",
      "91\n",
      "92\n",
      "Fizz\n",
      "94\n",
      "Buzz\n",
      "Fizz\n",
      "97\n",
      "98\n",
      "Fizz\n",
      "Buzz\n"
     ]
    }
   ],
   "source": [
    "for x in range(1, 101):\n",
    "    if x % 15 == 0:\n",
    "        print('FizzBuzz')\n",
    "        continue\n",
    "    if x % 3 == 0:\n",
    "        print('Fizz')\n",
    "        continue\n",
    "    if x % 5 == 0:\n",
    "        print('Buzz')\n",
    "        continue\n",
    "    print(x)"
   ]
  },
  {
   "cell_type": "markdown",
   "id": "0e2a60bf",
   "metadata": {},
   "source": [
    "Display a table of powers.\n",
    "\n",
    "Prompt the user to enter an integer\n",
    "Display a table of squares and cubes from 1 to the value entered\n",
    "Ask if the user wants to continue\n",
    "Assume that the user will enter valid data\n",
    "Only continue if the user agrees to"
   ]
  },
  {
   "cell_type": "code",
   "execution_count": 75,
   "id": "ce6cf4a5",
   "metadata": {},
   "outputs": [
    {
     "name": "stdout",
     "output_type": "stream",
     "text": [
      "Enter an integer 8\n",
      "1 |1 |1\n",
      "2 |4 |8\n",
      "3 |9 |27\n",
      "4 |16 |64\n",
      "5 |25 |125\n",
      "6 |36 |216\n",
      "7 |49 |343\n",
      "8 |64 |512\n",
      "Would you like to continue? y/ny\n",
      "Enter an integer 8\n",
      "1 |1 |1\n",
      "2 |4 |8\n",
      "3 |9 |27\n",
      "4 |16 |64\n",
      "5 |25 |125\n",
      "6 |36 |216\n",
      "7 |49 |343\n",
      "8 |64 |512\n",
      "Would you like to continue? y/nn\n"
     ]
    }
   ],
   "source": [
    "while True:\n",
    "    number = input(\"Enter an integer \")\n",
    "    number = int(number)\n",
    "    \n",
    "    for x in range(1, number+1):\n",
    "        print(f'{x} |{x**2} |{x**3}')\n",
    "    user_question = input('Would you like to continue? y/n: ')\n",
    "    if user_question.lower() != 'y':\n",
    "        break"
   ]
  },
  {
   "cell_type": "markdown",
   "id": "a0408cfd",
   "metadata": {},
   "source": [
    "Bonus Convert given number grades into letter grades.\n",
    "\n",
    "Prompt the user for a numerical grade from 0 to 100\n",
    "Display the corresponding letter grade\n",
    "Prompt the user to continue\n",
    "Assume that the user will enter valid integers for the grades\n",
    "The application should only continue if the user agrees to\n",
    "Grade Ranges:\n",
    "\n",
    "A : 100 - 88\n",
    "B : 87 - 80\n",
    "C : 79 - 67\n",
    "D : 66 - 60\n",
    "F : 59 - 0"
   ]
  },
  {
   "cell_type": "code",
   "execution_count": 76,
   "id": "7643dcbc",
   "metadata": {},
   "outputs": [
    {
     "name": "stdout",
     "output_type": "stream",
     "text": [
      "Enter a grade 0 - 100 98\n",
      "A\n"
     ]
    }
   ],
   "source": [
    "grade = input ('Enter a grade 0 - 100 ')\n",
    "grade = int(grade)\n",
    "\n",
    "if grade >= 88:\n",
    "    print('A')\n",
    "elif grade >= 80:\n",
    "    print('B')\n",
    "elif grade >= 67:\n",
    "    print('C')\n",
    "elif grade >= 60:\n",
    "    print('D')\n",
    "else:\n",
    "    print('F')"
   ]
  },
  {
   "cell_type": "code",
   "execution_count": 77,
   "id": "fabfb0da",
   "metadata": {},
   "outputs": [
    {
     "name": "stdout",
     "output_type": "stream",
     "text": [
      "Enter a grade 0 - 100 99\n",
      "A\n",
      "Would you like to continue? y/n n\n"
     ]
    }
   ],
   "source": [
    "while True:\n",
    "    grade = input ('Enter a grade 0 - 100 ')\n",
    "    grade = int(grade)\n",
    "\n",
    "    if grade >= 88:\n",
    "        print('A')\n",
    "    elif grade >= 80:\n",
    "        print('B')\n",
    "    elif grade >= 67:\n",
    "        print('C')\n",
    "    elif grade >= 60:\n",
    "        print('D')\n",
    "    else:\n",
    "        print('F')\n",
    "\n",
    "    user_question = input('Would you like to continue? y/n ')\n",
    "    if user_question.lower() != 'y':\n",
    "        break"
   ]
  },
  {
   "cell_type": "code",
   "execution_count": null,
   "id": "eb4da852",
   "metadata": {},
   "outputs": [],
   "source": []
  }
 ],
 "metadata": {
  "kernelspec": {
   "display_name": "Python 3 (ipykernel)",
   "language": "python",
   "name": "python3"
  },
  "language_info": {
   "codemirror_mode": {
    "name": "ipython",
    "version": 3
   },
   "file_extension": ".py",
   "mimetype": "text/x-python",
   "name": "python",
   "nbconvert_exporter": "python",
   "pygments_lexer": "ipython3",
   "version": "3.9.13"
  }
 },
 "nbformat": 4,
 "nbformat_minor": 5
}
